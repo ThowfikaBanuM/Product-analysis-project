{
 "cells": [
  {
   "cell_type": "code",
   "execution_count": 3,
   "id": "955144db",
   "metadata": {},
   "outputs": [],
   "source": [
    "from bs4 import BeautifulSoup as s\n",
    "from urllib.request import urlopen as u\n",
    "import pandas as pd\n",
    "import numpy as np\n",
    "import matplotlib.pyplot as plt\n",
    "import seaborn as sns"
   ]
  },
  {
   "cell_type": "code",
   "execution_count": 4,
   "id": "5432464d",
   "metadata": {},
   "outputs": [],
   "source": [
    "#data collection\n",
    "link=\"https://www.flipkart.com/search?q=bicycle&sid=abc%2Culv%2Cixt&as=on&as-show=on&otracker=AS_QueryStore_OrganicAutoSuggest_1_3_na_na_na&otracker1=AS_QueryStore_OrganicAutoSuggest_1_3_na_na_na&as-pos=1&as-type=RECENT&suggestionId=bicycle%7CCycles&requestId=81673825-72af-4545-a685-8604ad25ad8b&as-searchtext=bic\"                       \n",
    "pagecontent=u(link)\n",
    "pagecode=pagecontent.read()"
   ]
  },
  {
   "cell_type": "code",
   "execution_count": 5,
   "id": "ae37b974",
   "metadata": {},
   "outputs": [],
   "source": [
    "page_file=s(pagecode)"
   ]
  },
  {
   "cell_type": "code",
   "execution_count": 6,
   "id": "5a9312bf",
   "metadata": {},
   "outputs": [
    {
     "name": "stdout",
     "output_type": "stream",
     "text": [
      "Lifelong Chaze by Milind Soman CZBC2703 27.5 T Road Cyc...\n"
     ]
    }
   ],
   "source": [
    "modelname=page_file.find(\"a\",{\"class\":'s1Q9rs'})\n",
    "print(modelname.text)"
   ]
  },
  {
   "cell_type": "code",
   "execution_count": 7,
   "id": "507e74bc",
   "metadata": {},
   "outputs": [],
   "source": [
    "productname=[]\n",
    "modelname=page_file.findAll(\"a\",{\"class\":'s1Q9rs'})\n",
    "for i in modelname:\n",
    "    p=i.text\n",
    "    productname.append(p)\n"
   ]
  },
  {
   "cell_type": "code",
   "execution_count": 8,
   "id": "bf15c86b",
   "metadata": {},
   "outputs": [
    {
     "data": {
      "text/plain": [
       "['Lifelong Chaze by Milind Soman CZBC2703 27.5 T Road Cyc...',\n",
       " 'WALTX Trail 26 T Mountain Cycle',\n",
       " 'Lifelong Chaze by Milind Soman CZBC2702 27.5 T Road Cyc...',\n",
       " 'Hi-Fast Bicycle For Kids with Training Wheels (Semi Ass...',\n",
       " 'WALTX Dune 4 - Front Suspension 26 T Fat Tyre Cycle',\n",
       " 'MODERN Arrow 26T City Bike/Cycle In Built Carrier (Matt...',\n",
       " 'MODERN Arrow 26T City Bike/Cycle In Built Carrier (Matt...',\n",
       " 'WALTX Dune 1 26 T Fat Tyre Cycle',\n",
       " 'Lifelong Falcon 27.5 T with Disc Brake and Suspension, ...',\n",
       " 'Lifelong Chaze by Milind Soman CZBC2601 26 T Road Cycle',\n",
       " 'LEADER TORFIN 26T MTB Bicycle without Gear Single Speed...',\n",
       " 'MODERN NAPPIER 26T Bike/Bicycle In Built Carrier (Matte...',\n",
       " 'vesco Super Girl 16 T Road Cycle',\n",
       " 'HRX XTRM CT 500 85% Assembled 26 T Hybrid Cycle/City Bi...',\n",
       " 'RideCraft Tred 26T Hybrid City Bike/Cycle (Single Speed...',\n",
       " 'WALTX Trail 27.5 T Mountain Cycle',\n",
       " 'Lifelong Escape 26 T, Matte Black 26 T Road Cycle',\n",
       " 'Lifelong Tribe 20T, Matte Black and Fluorescent yellow ...',\n",
       " 'CRADIAC CITY 26 FULLY FITTED 26 T Hybrid Cycle/City Bik...',\n",
       " 'MODERN NAPPIER 26T Bike/Bicycle In Built Carrier (Matte...',\n",
       " 'WALTX Dune 3 26 T Fat Tyre Cycle',\n",
       " 'Hi-Fast Bicycle For Kids with Training Wheels (Semi Ass...',\n",
       " 'Miss & Chief Snow Princess 85% Assembled Kids Bicycle F...',\n",
       " 'Miss & Chief Tom & Jerry 85% Assembled Kids Bicycle For...',\n",
       " 'MODERN TROY 20T Kids Cycle/Bicycle with Inbuilt Carrier...',\n",
       " 'vesco KICK PRO Light Green 20 T Road Cycle',\n",
       " 'MODERN Tred-X Bruklyn 26T City Bike/Cycle/Road Cycle (M...',\n",
       " 'vesco Drift - White 20 T Road Cycle',\n",
       " 'Hi-Fast Kids cycles For 2 Years to 5 Years Semi Assembl...',\n",
       " 'Hi-Fast Cycle For Kids with Training Wheels (Semi Assem...',\n",
       " 'RideCraft TRED 26T City Bike/Bicycle (Sea Blue) 85% Ass...',\n",
       " 'Lifelong Escape 27.5 T, Matte Black 27.5 T Road Cycle',\n",
       " 'MODERN IGNITE 26T City Bike/Cycle In Built Carrier (Mat...',\n",
       " 'CRADIAC 26 FAT ORANGE YELLOW SINGLE SPEED 26 T Mountain...',\n",
       " 'vesco Drift Green 20 T Road Cycle',\n",
       " 'Miss & Chief Joy Durable 85% Semi Assembled Kids Bicycl...',\n",
       " 'LEADER 20T Murphy Kids Bicycle for 5 Years to 8 Years 2...',\n",
       " 'Miss & Chief Ablaze Durable 85% Semi Assembled Kids Bic...',\n",
       " 'CRADIAC 29 7 GEAR SHIMANO| DOUBLE DISC| SUSPENSION|29 I...',\n",
       " 'R for Rabbit The Smart Plug and Play Kids Cycle (14 inc...']"
      ]
     },
     "execution_count": 8,
     "metadata": {},
     "output_type": "execute_result"
    }
   ],
   "source": [
    "productname"
   ]
  },
  {
   "cell_type": "code",
   "execution_count": 9,
   "id": "c8ec724d",
   "metadata": {},
   "outputs": [
    {
     "name": "stdout",
     "output_type": "stream",
     "text": [
      "4.1\n"
     ]
    }
   ],
   "source": [
    "modelname=page_file.find(\"span\",{\"class\":'_1lRcqv'})\n",
    "print(modelname.text)"
   ]
  },
  {
   "cell_type": "code",
   "execution_count": 10,
   "id": "e983a641",
   "metadata": {},
   "outputs": [
    {
     "name": "stdout",
     "output_type": "stream",
     "text": [
      "38% off\n"
     ]
    }
   ],
   "source": [
    "modelname=page_file.find(\"div\",{\"class\":'_3Ay6Sb'})\n",
    "print(modelname.text)"
   ]
  },
  {
   "cell_type": "code",
   "execution_count": 11,
   "id": "78214d4b",
   "metadata": {},
   "outputs": [
    {
     "data": {
      "text/plain": [
       "['38% off',\n",
       " '23% off',\n",
       " '38% off',\n",
       " '45% off',\n",
       " '36% off',\n",
       " '46% off',\n",
       " '46% off',\n",
       " '26% off',\n",
       " '30% off',\n",
       " '40% off',\n",
       " '40% off',\n",
       " '25% off',\n",
       " '22% off',\n",
       " '49% off',\n",
       " '45% off',\n",
       " '18% off',\n",
       " '26% off',\n",
       " '31% off',\n",
       " '56% off',\n",
       " '30% off',\n",
       " '29% off',\n",
       " '45% off',\n",
       " '55% off',\n",
       " '56% off',\n",
       " '37% off',\n",
       " '25% off',\n",
       " '40% off',\n",
       " '25% off',\n",
       " '9% off',\n",
       " '45% off',\n",
       " '40% off',\n",
       " '30% off',\n",
       " '40% off',\n",
       " '45% off',\n",
       " '25% off',\n",
       " '53% off',\n",
       " '18% off',\n",
       " '55% off',\n",
       " '39% off',\n",
       " '25% off',\n",
       " '18% off',\n",
       " '18% off',\n",
       " '56% off',\n",
       " '55% off',\n",
       " '56% off']"
      ]
     },
     "execution_count": 11,
     "metadata": {},
     "output_type": "execute_result"
    }
   ],
   "source": [
    "offers=[]\n",
    "modelname=page_file.findAll(\"div\",{\"class\":'_3Ay6Sb'})\n",
    "for i in modelname:\n",
    "    p=i.text\n",
    "    offers.append(p)\n",
    "offers"
   ]
  },
  {
   "cell_type": "code",
   "execution_count": 12,
   "id": "45f52c9e",
   "metadata": {},
   "outputs": [
    {
     "name": "stdout",
     "output_type": "stream",
     "text": [
      "₹8,899\n"
     ]
    }
   ],
   "source": [
    "modelname=page_file.find(\"div\",{\"class\":'_30jeq3'})\n",
    "print(modelname.text)"
   ]
  },
  {
   "cell_type": "code",
   "execution_count": 13,
   "id": "b7a8c1a7",
   "metadata": {},
   "outputs": [
    {
     "data": {
      "text/plain": [
       "['₹8,899',\n",
       " '₹12,999',\n",
       " '₹8,899',\n",
       " '₹3,299',\n",
       " '₹17,999',\n",
       " '₹5,399',\n",
       " '₹5,399',\n",
       " '₹16,999',\n",
       " '₹8,999',\n",
       " '₹5,699',\n",
       " '₹7,425',\n",
       " '₹6,299',\n",
       " '₹4,299',\n",
       " '₹8,599',\n",
       " '₹5,399',\n",
       " '₹15,499',\n",
       " '₹5,499',\n",
       " '₹4,799',\n",
       " '₹6,159',\n",
       " '₹6,299',\n",
       " '₹16,999',\n",
       " '₹3,299',\n",
       " '₹3,559',\n",
       " '₹3,025',\n",
       " '₹5,039',\n",
       " '₹5,399',\n",
       " '₹5,399',\n",
       " '₹5,899',\n",
       " '₹2,998',\n",
       " '₹3,299',\n",
       " '₹5,399',\n",
       " '₹6,999',\n",
       " '₹5,399',\n",
       " '₹9,679',\n",
       " '₹5,899',\n",
       " '₹3,025',\n",
       " '₹4,482',\n",
       " '₹3,559',\n",
       " '₹11,439',\n",
       " '₹6,699',\n",
       " '₹4,482',\n",
       " '₹15,499',\n",
       " '₹6,159',\n",
       " '₹3,559',\n",
       " '₹3,025']"
      ]
     },
     "execution_count": 13,
     "metadata": {},
     "output_type": "execute_result"
    }
   ],
   "source": [
    "price=[]\n",
    "modelname=page_file.findAll(\"div\",{\"class\":'_30jeq3'})\n",
    "for i in modelname:\n",
    "    p=i.text\n",
    "    price.append(p)\n",
    "price\n"
   ]
  },
  {
   "cell_type": "code",
   "execution_count": 14,
   "id": "4c9ab3e9",
   "metadata": {},
   "outputs": [
    {
     "data": {
      "text/plain": [
       "['4.1',\n",
       " '4.2',\n",
       " '4.3',\n",
       " '3.7',\n",
       " '4',\n",
       " '4.1',\n",
       " '3.9',\n",
       " '4.3',\n",
       " '3.7',\n",
       " '3.4',\n",
       " '4.4',\n",
       " '4',\n",
       " '4',\n",
       " '3.6',\n",
       " '4',\n",
       " '4.3',\n",
       " '3.7',\n",
       " '3.7',\n",
       " '4.3',\n",
       " '3.7',\n",
       " '4.3',\n",
       " '3.7',\n",
       " '3.8',\n",
       " '3.8',\n",
       " '4',\n",
       " '3.9',\n",
       " '3.7',\n",
       " '4.3',\n",
       " '3.7',\n",
       " '3.7',\n",
       " '4.4',\n",
       " '3.4',\n",
       " '3.8',\n",
       " '4.3',\n",
       " '3.8',\n",
       " '3.9',\n",
       " '3.6',\n",
       " '3.7',\n",
       " '4.1',\n",
       " '4.2']"
      ]
     },
     "execution_count": 14,
     "metadata": {},
     "output_type": "execute_result"
    }
   ],
   "source": [
    "ratings=[]\n",
    "modelname=page_file.findAll(\"span\",{\"class\":'_1lRcqv'})\n",
    "for i in modelname:\n",
    "    p=i.text\n",
    "    ratings.append(p)\n",
    "ratings\n"
   ]
  },
  {
   "cell_type": "code",
   "execution_count": 17,
   "id": "6e612c29",
   "metadata": {},
   "outputs": [
    {
     "data": {
      "text/plain": [
       "12"
      ]
     },
     "execution_count": 17,
     "metadata": {},
     "output_type": "execute_result"
    }
   ],
   "source": [
    "len(productname)     "
   ]
  },
  {
   "cell_type": "code",
   "execution_count": 16,
   "id": "5b88d189",
   "metadata": {},
   "outputs": [],
   "source": [
    "del productname[12:40]"
   ]
  },
  {
   "cell_type": "code",
   "execution_count": 20,
   "id": "9382ae93",
   "metadata": {},
   "outputs": [
    {
     "data": {
      "text/plain": [
       "12"
      ]
     },
     "execution_count": 20,
     "metadata": {},
     "output_type": "execute_result"
    }
   ],
   "source": [
    "len(ratings)"
   ]
  },
  {
   "cell_type": "code",
   "execution_count": 19,
   "id": "83c5c337",
   "metadata": {},
   "outputs": [],
   "source": [
    "del ratings[12:40]"
   ]
  },
  {
   "cell_type": "code",
   "execution_count": 23,
   "id": "ad6b87d8",
   "metadata": {},
   "outputs": [
    {
     "data": {
      "text/plain": [
       "12"
      ]
     },
     "execution_count": 23,
     "metadata": {},
     "output_type": "execute_result"
    }
   ],
   "source": [
    "len(price)"
   ]
  },
  {
   "cell_type": "code",
   "execution_count": 22,
   "id": "f853ffcf",
   "metadata": {},
   "outputs": [],
   "source": [
    "del price[12:45]"
   ]
  },
  {
   "cell_type": "code",
   "execution_count": 26,
   "id": "3ef9e537",
   "metadata": {},
   "outputs": [
    {
     "data": {
      "text/plain": [
       "12"
      ]
     },
     "execution_count": 26,
     "metadata": {},
     "output_type": "execute_result"
    }
   ],
   "source": [
    "len(offers)"
   ]
  },
  {
   "cell_type": "code",
   "execution_count": 25,
   "id": "ba66d10f",
   "metadata": {},
   "outputs": [],
   "source": [
    "del offers[12:45]"
   ]
  },
  {
   "cell_type": "code",
   "execution_count": 27,
   "id": "aa886f36",
   "metadata": {},
   "outputs": [],
   "source": [
    "d={'productname1':productname,'ratings1':ratings,'price1':price,'offers1':offers}\n",
    "bicycledata=pd.DataFrame(d)"
   ]
  },
  {
   "cell_type": "code",
   "execution_count": 28,
   "id": "7ef9c27c",
   "metadata": {},
   "outputs": [
    {
     "data": {
      "text/html": [
       "<div>\n",
       "<style scoped>\n",
       "    .dataframe tbody tr th:only-of-type {\n",
       "        vertical-align: middle;\n",
       "    }\n",
       "\n",
       "    .dataframe tbody tr th {\n",
       "        vertical-align: top;\n",
       "    }\n",
       "\n",
       "    .dataframe thead th {\n",
       "        text-align: right;\n",
       "    }\n",
       "</style>\n",
       "<table border=\"1\" class=\"dataframe\">\n",
       "  <thead>\n",
       "    <tr style=\"text-align: right;\">\n",
       "      <th></th>\n",
       "      <th>productname1</th>\n",
       "      <th>ratings1</th>\n",
       "      <th>price1</th>\n",
       "      <th>offers1</th>\n",
       "    </tr>\n",
       "  </thead>\n",
       "  <tbody>\n",
       "    <tr>\n",
       "      <th>0</th>\n",
       "      <td>Lifelong Chaze by Milind Soman CZBC2703 27.5 T...</td>\n",
       "      <td>4.1</td>\n",
       "      <td>₹8,899</td>\n",
       "      <td>38% off</td>\n",
       "    </tr>\n",
       "    <tr>\n",
       "      <th>1</th>\n",
       "      <td>WALTX Trail 26 T Mountain Cycle</td>\n",
       "      <td>4.2</td>\n",
       "      <td>₹12,999</td>\n",
       "      <td>23% off</td>\n",
       "    </tr>\n",
       "    <tr>\n",
       "      <th>2</th>\n",
       "      <td>Lifelong Chaze by Milind Soman CZBC2702 27.5 T...</td>\n",
       "      <td>4.3</td>\n",
       "      <td>₹8,899</td>\n",
       "      <td>38% off</td>\n",
       "    </tr>\n",
       "    <tr>\n",
       "      <th>3</th>\n",
       "      <td>Hi-Fast Bicycle For Kids with Training Wheels ...</td>\n",
       "      <td>3.7</td>\n",
       "      <td>₹3,299</td>\n",
       "      <td>45% off</td>\n",
       "    </tr>\n",
       "    <tr>\n",
       "      <th>4</th>\n",
       "      <td>WALTX Dune 4 - Front Suspension 26 T Fat Tyre ...</td>\n",
       "      <td>4</td>\n",
       "      <td>₹17,999</td>\n",
       "      <td>36% off</td>\n",
       "    </tr>\n",
       "    <tr>\n",
       "      <th>5</th>\n",
       "      <td>MODERN Arrow 26T City Bike/Cycle In Built Carr...</td>\n",
       "      <td>4.1</td>\n",
       "      <td>₹5,399</td>\n",
       "      <td>46% off</td>\n",
       "    </tr>\n",
       "    <tr>\n",
       "      <th>6</th>\n",
       "      <td>MODERN Arrow 26T City Bike/Cycle In Built Carr...</td>\n",
       "      <td>3.9</td>\n",
       "      <td>₹5,399</td>\n",
       "      <td>46% off</td>\n",
       "    </tr>\n",
       "    <tr>\n",
       "      <th>7</th>\n",
       "      <td>WALTX Dune 1 26 T Fat Tyre Cycle</td>\n",
       "      <td>4.3</td>\n",
       "      <td>₹16,999</td>\n",
       "      <td>26% off</td>\n",
       "    </tr>\n",
       "    <tr>\n",
       "      <th>8</th>\n",
       "      <td>Lifelong Falcon 27.5 T with Disc Brake and Sus...</td>\n",
       "      <td>3.7</td>\n",
       "      <td>₹8,999</td>\n",
       "      <td>30% off</td>\n",
       "    </tr>\n",
       "    <tr>\n",
       "      <th>9</th>\n",
       "      <td>Lifelong Chaze by Milind Soman CZBC2601 26 T R...</td>\n",
       "      <td>3.4</td>\n",
       "      <td>₹5,699</td>\n",
       "      <td>40% off</td>\n",
       "    </tr>\n",
       "    <tr>\n",
       "      <th>10</th>\n",
       "      <td>LEADER TORFIN 26T MTB Bicycle without Gear Sin...</td>\n",
       "      <td>4.4</td>\n",
       "      <td>₹7,425</td>\n",
       "      <td>40% off</td>\n",
       "    </tr>\n",
       "    <tr>\n",
       "      <th>11</th>\n",
       "      <td>MODERN NAPPIER 26T Bike/Bicycle In Built Carri...</td>\n",
       "      <td>4</td>\n",
       "      <td>₹6,299</td>\n",
       "      <td>25% off</td>\n",
       "    </tr>\n",
       "  </tbody>\n",
       "</table>\n",
       "</div>"
      ],
      "text/plain": [
       "                                         productname1 ratings1   price1  \\\n",
       "0   Lifelong Chaze by Milind Soman CZBC2703 27.5 T...      4.1   ₹8,899   \n",
       "1                     WALTX Trail 26 T Mountain Cycle      4.2  ₹12,999   \n",
       "2   Lifelong Chaze by Milind Soman CZBC2702 27.5 T...      4.3   ₹8,899   \n",
       "3   Hi-Fast Bicycle For Kids with Training Wheels ...      3.7   ₹3,299   \n",
       "4   WALTX Dune 4 - Front Suspension 26 T Fat Tyre ...        4  ₹17,999   \n",
       "5   MODERN Arrow 26T City Bike/Cycle In Built Carr...      4.1   ₹5,399   \n",
       "6   MODERN Arrow 26T City Bike/Cycle In Built Carr...      3.9   ₹5,399   \n",
       "7                    WALTX Dune 1 26 T Fat Tyre Cycle      4.3  ₹16,999   \n",
       "8   Lifelong Falcon 27.5 T with Disc Brake and Sus...      3.7   ₹8,999   \n",
       "9   Lifelong Chaze by Milind Soman CZBC2601 26 T R...      3.4   ₹5,699   \n",
       "10  LEADER TORFIN 26T MTB Bicycle without Gear Sin...      4.4   ₹7,425   \n",
       "11  MODERN NAPPIER 26T Bike/Bicycle In Built Carri...        4   ₹6,299   \n",
       "\n",
       "    offers1  \n",
       "0   38% off  \n",
       "1   23% off  \n",
       "2   38% off  \n",
       "3   45% off  \n",
       "4   36% off  \n",
       "5   46% off  \n",
       "6   46% off  \n",
       "7   26% off  \n",
       "8   30% off  \n",
       "9   40% off  \n",
       "10  40% off  \n",
       "11  25% off  "
      ]
     },
     "execution_count": 28,
     "metadata": {},
     "output_type": "execute_result"
    }
   ],
   "source": [
    "bicycledata"
   ]
  },
  {
   "cell_type": "code",
   "execution_count": 29,
   "id": "97cc647b",
   "metadata": {},
   "outputs": [
    {
     "data": {
      "text/plain": [
       "productname1    object\n",
       "ratings1        object\n",
       "price1          object\n",
       "offers1         object\n",
       "dtype: object"
      ]
     },
     "execution_count": 29,
     "metadata": {},
     "output_type": "execute_result"
    }
   ],
   "source": [
    "bicycledata.dtypes"
   ]
  },
  {
   "cell_type": "code",
   "execution_count": 30,
   "id": "4b996f16",
   "metadata": {},
   "outputs": [],
   "source": [
    "bicycledata.to_csv(\"source1.csv\")"
   ]
  },
  {
   "cell_type": "code",
   "execution_count": 31,
   "id": "b2d47a5b",
   "metadata": {},
   "outputs": [
    {
     "data": {
      "text/html": [
       "<div>\n",
       "<style scoped>\n",
       "    .dataframe tbody tr th:only-of-type {\n",
       "        vertical-align: middle;\n",
       "    }\n",
       "\n",
       "    .dataframe tbody tr th {\n",
       "        vertical-align: top;\n",
       "    }\n",
       "\n",
       "    .dataframe thead th {\n",
       "        text-align: right;\n",
       "    }\n",
       "</style>\n",
       "<table border=\"1\" class=\"dataframe\">\n",
       "  <thead>\n",
       "    <tr style=\"text-align: right;\">\n",
       "      <th></th>\n",
       "      <th>Unnamed: 0</th>\n",
       "      <th>productname1</th>\n",
       "      <th>ratings1</th>\n",
       "      <th>price1</th>\n",
       "      <th>offers1</th>\n",
       "    </tr>\n",
       "  </thead>\n",
       "  <tbody>\n",
       "    <tr>\n",
       "      <th>0</th>\n",
       "      <td>0</td>\n",
       "      <td>Lifelong Chaze by Milind Soman CZBC2703 27.5 T...</td>\n",
       "      <td>4.1</td>\n",
       "      <td>₹8,899</td>\n",
       "      <td>38% off</td>\n",
       "    </tr>\n",
       "    <tr>\n",
       "      <th>1</th>\n",
       "      <td>1</td>\n",
       "      <td>WALTX Trail 26 T Mountain Cycle</td>\n",
       "      <td>4.2</td>\n",
       "      <td>₹12,999</td>\n",
       "      <td>23% off</td>\n",
       "    </tr>\n",
       "    <tr>\n",
       "      <th>2</th>\n",
       "      <td>2</td>\n",
       "      <td>Lifelong Chaze by Milind Soman CZBC2702 27.5 T...</td>\n",
       "      <td>4.3</td>\n",
       "      <td>₹8,899</td>\n",
       "      <td>38% off</td>\n",
       "    </tr>\n",
       "    <tr>\n",
       "      <th>3</th>\n",
       "      <td>3</td>\n",
       "      <td>Hi-Fast Bicycle For Kids with Training Wheels ...</td>\n",
       "      <td>3.7</td>\n",
       "      <td>₹3,299</td>\n",
       "      <td>45% off</td>\n",
       "    </tr>\n",
       "    <tr>\n",
       "      <th>4</th>\n",
       "      <td>4</td>\n",
       "      <td>WALTX Dune 4 - Front Suspension 26 T Fat Tyre ...</td>\n",
       "      <td>4.0</td>\n",
       "      <td>₹17,999</td>\n",
       "      <td>36% off</td>\n",
       "    </tr>\n",
       "    <tr>\n",
       "      <th>5</th>\n",
       "      <td>5</td>\n",
       "      <td>MODERN Arrow 26T City Bike/Cycle In Built Carr...</td>\n",
       "      <td>4.1</td>\n",
       "      <td>₹5,399</td>\n",
       "      <td>46% off</td>\n",
       "    </tr>\n",
       "    <tr>\n",
       "      <th>6</th>\n",
       "      <td>6</td>\n",
       "      <td>MODERN Arrow 26T City Bike/Cycle In Built Carr...</td>\n",
       "      <td>3.9</td>\n",
       "      <td>₹5,399</td>\n",
       "      <td>46% off</td>\n",
       "    </tr>\n",
       "    <tr>\n",
       "      <th>7</th>\n",
       "      <td>7</td>\n",
       "      <td>WALTX Dune 1 26 T Fat Tyre Cycle</td>\n",
       "      <td>4.3</td>\n",
       "      <td>₹16,999</td>\n",
       "      <td>26% off</td>\n",
       "    </tr>\n",
       "    <tr>\n",
       "      <th>8</th>\n",
       "      <td>8</td>\n",
       "      <td>Lifelong Falcon 27.5 T with Disc Brake and Sus...</td>\n",
       "      <td>3.7</td>\n",
       "      <td>₹8,999</td>\n",
       "      <td>30% off</td>\n",
       "    </tr>\n",
       "    <tr>\n",
       "      <th>9</th>\n",
       "      <td>9</td>\n",
       "      <td>Lifelong Chaze by Milind Soman CZBC2601 26 T R...</td>\n",
       "      <td>3.4</td>\n",
       "      <td>₹5,699</td>\n",
       "      <td>40% off</td>\n",
       "    </tr>\n",
       "    <tr>\n",
       "      <th>10</th>\n",
       "      <td>10</td>\n",
       "      <td>LEADER TORFIN 26T MTB Bicycle without Gear Sin...</td>\n",
       "      <td>4.4</td>\n",
       "      <td>₹7,425</td>\n",
       "      <td>40% off</td>\n",
       "    </tr>\n",
       "    <tr>\n",
       "      <th>11</th>\n",
       "      <td>11</td>\n",
       "      <td>MODERN NAPPIER 26T Bike/Bicycle In Built Carri...</td>\n",
       "      <td>4.0</td>\n",
       "      <td>₹6,299</td>\n",
       "      <td>25% off</td>\n",
       "    </tr>\n",
       "  </tbody>\n",
       "</table>\n",
       "</div>"
      ],
      "text/plain": [
       "    Unnamed: 0                                       productname1  ratings1  \\\n",
       "0            0  Lifelong Chaze by Milind Soman CZBC2703 27.5 T...       4.1   \n",
       "1            1                    WALTX Trail 26 T Mountain Cycle       4.2   \n",
       "2            2  Lifelong Chaze by Milind Soman CZBC2702 27.5 T...       4.3   \n",
       "3            3  Hi-Fast Bicycle For Kids with Training Wheels ...       3.7   \n",
       "4            4  WALTX Dune 4 - Front Suspension 26 T Fat Tyre ...       4.0   \n",
       "5            5  MODERN Arrow 26T City Bike/Cycle In Built Carr...       4.1   \n",
       "6            6  MODERN Arrow 26T City Bike/Cycle In Built Carr...       3.9   \n",
       "7            7                   WALTX Dune 1 26 T Fat Tyre Cycle       4.3   \n",
       "8            8  Lifelong Falcon 27.5 T with Disc Brake and Sus...       3.7   \n",
       "9            9  Lifelong Chaze by Milind Soman CZBC2601 26 T R...       3.4   \n",
       "10          10  LEADER TORFIN 26T MTB Bicycle without Gear Sin...       4.4   \n",
       "11          11  MODERN NAPPIER 26T Bike/Bicycle In Built Carri...       4.0   \n",
       "\n",
       "     price1  offers1  \n",
       "0    ₹8,899  38% off  \n",
       "1   ₹12,999  23% off  \n",
       "2    ₹8,899  38% off  \n",
       "3    ₹3,299  45% off  \n",
       "4   ₹17,999  36% off  \n",
       "5    ₹5,399  46% off  \n",
       "6    ₹5,399  46% off  \n",
       "7   ₹16,999  26% off  \n",
       "8    ₹8,999  30% off  \n",
       "9    ₹5,699  40% off  \n",
       "10   ₹7,425  40% off  \n",
       "11   ₹6,299  25% off  "
      ]
     },
     "execution_count": 31,
     "metadata": {},
     "output_type": "execute_result"
    }
   ],
   "source": [
    "data=pd.read_csv(\"source1.csv\")\n",
    "data"
   ]
  },
  {
   "cell_type": "code",
   "execution_count": 32,
   "id": "cc733c29",
   "metadata": {},
   "outputs": [],
   "source": [
    "bicycledata['ratings1']=bicycledata['ratings1'].astype(float)                #data cleansing"
   ]
  },
  {
   "cell_type": "code",
   "execution_count": 33,
   "id": "3f755a95",
   "metadata": {},
   "outputs": [
    {
     "data": {
      "text/plain": [
       "productname1     object\n",
       "ratings1        float64\n",
       "price1           object\n",
       "offers1          object\n",
       "dtype: object"
      ]
     },
     "execution_count": 33,
     "metadata": {},
     "output_type": "execute_result"
    }
   ],
   "source": [
    "bicycledata.dtypes"
   ]
  },
  {
   "cell_type": "code",
   "execution_count": 34,
   "id": "39b9ac6a",
   "metadata": {},
   "outputs": [],
   "source": [
    "bicycledata['price1']=bicycledata['price1'].replace('','₹')"
   ]
  },
  {
   "cell_type": "code",
   "execution_count": 35,
   "id": "ed6bcfa1",
   "metadata": {},
   "outputs": [
    {
     "data": {
      "text/html": [
       "<div>\n",
       "<style scoped>\n",
       "    .dataframe tbody tr th:only-of-type {\n",
       "        vertical-align: middle;\n",
       "    }\n",
       "\n",
       "    .dataframe tbody tr th {\n",
       "        vertical-align: top;\n",
       "    }\n",
       "\n",
       "    .dataframe thead th {\n",
       "        text-align: right;\n",
       "    }\n",
       "</style>\n",
       "<table border=\"1\" class=\"dataframe\">\n",
       "  <thead>\n",
       "    <tr style=\"text-align: right;\">\n",
       "      <th></th>\n",
       "      <th>productname1</th>\n",
       "      <th>ratings1</th>\n",
       "      <th>price1</th>\n",
       "      <th>offers1</th>\n",
       "    </tr>\n",
       "  </thead>\n",
       "  <tbody>\n",
       "    <tr>\n",
       "      <th>0</th>\n",
       "      <td>Lifelong Chaze by Milind Soman CZBC2703 27.5 T...</td>\n",
       "      <td>4.1</td>\n",
       "      <td>₹8,899</td>\n",
       "      <td>38% off</td>\n",
       "    </tr>\n",
       "    <tr>\n",
       "      <th>1</th>\n",
       "      <td>WALTX Trail 26 T Mountain Cycle</td>\n",
       "      <td>4.2</td>\n",
       "      <td>₹12,999</td>\n",
       "      <td>23% off</td>\n",
       "    </tr>\n",
       "    <tr>\n",
       "      <th>2</th>\n",
       "      <td>Lifelong Chaze by Milind Soman CZBC2702 27.5 T...</td>\n",
       "      <td>4.3</td>\n",
       "      <td>₹8,899</td>\n",
       "      <td>38% off</td>\n",
       "    </tr>\n",
       "    <tr>\n",
       "      <th>3</th>\n",
       "      <td>Hi-Fast Bicycle For Kids with Training Wheels ...</td>\n",
       "      <td>3.7</td>\n",
       "      <td>₹3,299</td>\n",
       "      <td>45% off</td>\n",
       "    </tr>\n",
       "    <tr>\n",
       "      <th>4</th>\n",
       "      <td>WALTX Dune 4 - Front Suspension 26 T Fat Tyre ...</td>\n",
       "      <td>4.0</td>\n",
       "      <td>₹17,999</td>\n",
       "      <td>36% off</td>\n",
       "    </tr>\n",
       "    <tr>\n",
       "      <th>5</th>\n",
       "      <td>MODERN Arrow 26T City Bike/Cycle In Built Carr...</td>\n",
       "      <td>4.1</td>\n",
       "      <td>₹5,399</td>\n",
       "      <td>46% off</td>\n",
       "    </tr>\n",
       "    <tr>\n",
       "      <th>6</th>\n",
       "      <td>MODERN Arrow 26T City Bike/Cycle In Built Carr...</td>\n",
       "      <td>3.9</td>\n",
       "      <td>₹5,399</td>\n",
       "      <td>46% off</td>\n",
       "    </tr>\n",
       "    <tr>\n",
       "      <th>7</th>\n",
       "      <td>WALTX Dune 1 26 T Fat Tyre Cycle</td>\n",
       "      <td>4.3</td>\n",
       "      <td>₹16,999</td>\n",
       "      <td>26% off</td>\n",
       "    </tr>\n",
       "    <tr>\n",
       "      <th>8</th>\n",
       "      <td>Lifelong Falcon 27.5 T with Disc Brake and Sus...</td>\n",
       "      <td>3.7</td>\n",
       "      <td>₹8,999</td>\n",
       "      <td>30% off</td>\n",
       "    </tr>\n",
       "    <tr>\n",
       "      <th>9</th>\n",
       "      <td>Lifelong Chaze by Milind Soman CZBC2601 26 T R...</td>\n",
       "      <td>3.4</td>\n",
       "      <td>₹5,699</td>\n",
       "      <td>40% off</td>\n",
       "    </tr>\n",
       "    <tr>\n",
       "      <th>10</th>\n",
       "      <td>LEADER TORFIN 26T MTB Bicycle without Gear Sin...</td>\n",
       "      <td>4.4</td>\n",
       "      <td>₹7,425</td>\n",
       "      <td>40% off</td>\n",
       "    </tr>\n",
       "    <tr>\n",
       "      <th>11</th>\n",
       "      <td>MODERN NAPPIER 26T Bike/Bicycle In Built Carri...</td>\n",
       "      <td>4.0</td>\n",
       "      <td>₹6,299</td>\n",
       "      <td>25% off</td>\n",
       "    </tr>\n",
       "  </tbody>\n",
       "</table>\n",
       "</div>"
      ],
      "text/plain": [
       "                                         productname1  ratings1   price1  \\\n",
       "0   Lifelong Chaze by Milind Soman CZBC2703 27.5 T...       4.1   ₹8,899   \n",
       "1                     WALTX Trail 26 T Mountain Cycle       4.2  ₹12,999   \n",
       "2   Lifelong Chaze by Milind Soman CZBC2702 27.5 T...       4.3   ₹8,899   \n",
       "3   Hi-Fast Bicycle For Kids with Training Wheels ...       3.7   ₹3,299   \n",
       "4   WALTX Dune 4 - Front Suspension 26 T Fat Tyre ...       4.0  ₹17,999   \n",
       "5   MODERN Arrow 26T City Bike/Cycle In Built Carr...       4.1   ₹5,399   \n",
       "6   MODERN Arrow 26T City Bike/Cycle In Built Carr...       3.9   ₹5,399   \n",
       "7                    WALTX Dune 1 26 T Fat Tyre Cycle       4.3  ₹16,999   \n",
       "8   Lifelong Falcon 27.5 T with Disc Brake and Sus...       3.7   ₹8,999   \n",
       "9   Lifelong Chaze by Milind Soman CZBC2601 26 T R...       3.4   ₹5,699   \n",
       "10  LEADER TORFIN 26T MTB Bicycle without Gear Sin...       4.4   ₹7,425   \n",
       "11  MODERN NAPPIER 26T Bike/Bicycle In Built Carri...       4.0   ₹6,299   \n",
       "\n",
       "    offers1  \n",
       "0   38% off  \n",
       "1   23% off  \n",
       "2   38% off  \n",
       "3   45% off  \n",
       "4   36% off  \n",
       "5   46% off  \n",
       "6   46% off  \n",
       "7   26% off  \n",
       "8   30% off  \n",
       "9   40% off  \n",
       "10  40% off  \n",
       "11  25% off  "
      ]
     },
     "execution_count": 35,
     "metadata": {},
     "output_type": "execute_result"
    }
   ],
   "source": [
    "bicycledata"
   ]
  },
  {
   "cell_type": "code",
   "execution_count": 36,
   "id": "08d2b361",
   "metadata": {},
   "outputs": [],
   "source": [
    "d=bicycledata['price1']"
   ]
  },
  {
   "cell_type": "code",
   "execution_count": 37,
   "id": "a842a1fe",
   "metadata": {},
   "outputs": [
    {
     "name": "stdout",
     "output_type": "stream",
     "text": [
      "['8899', '12999', '8899', '3299', '17999', '5399', '5399', '16999', '8999', '5699', '7425', '6299']\n"
     ]
    }
   ],
   "source": [
    "temp=[]\n",
    "import re\n",
    "t=re.compile(r'[^\\d]+')\n",
    "for i in d:\n",
    "    r=t.sub('',i)\n",
    "    temp.append(r)\n",
    "print(temp)"
   ]
  },
  {
   "cell_type": "code",
   "execution_count": 38,
   "id": "03d23e62",
   "metadata": {},
   "outputs": [
    {
     "data": {
      "text/html": [
       "<div>\n",
       "<style scoped>\n",
       "    .dataframe tbody tr th:only-of-type {\n",
       "        vertical-align: middle;\n",
       "    }\n",
       "\n",
       "    .dataframe tbody tr th {\n",
       "        vertical-align: top;\n",
       "    }\n",
       "\n",
       "    .dataframe thead th {\n",
       "        text-align: right;\n",
       "    }\n",
       "</style>\n",
       "<table border=\"1\" class=\"dataframe\">\n",
       "  <thead>\n",
       "    <tr style=\"text-align: right;\">\n",
       "      <th></th>\n",
       "      <th>productname1</th>\n",
       "      <th>ratings1</th>\n",
       "      <th>price1</th>\n",
       "      <th>offers1</th>\n",
       "    </tr>\n",
       "  </thead>\n",
       "  <tbody>\n",
       "    <tr>\n",
       "      <th>0</th>\n",
       "      <td>Lifelong Chaze by Milind Soman CZBC2703 27.5 T...</td>\n",
       "      <td>4.1</td>\n",
       "      <td>8899</td>\n",
       "      <td>38% off</td>\n",
       "    </tr>\n",
       "    <tr>\n",
       "      <th>1</th>\n",
       "      <td>WALTX Trail 26 T Mountain Cycle</td>\n",
       "      <td>4.2</td>\n",
       "      <td>12999</td>\n",
       "      <td>23% off</td>\n",
       "    </tr>\n",
       "    <tr>\n",
       "      <th>2</th>\n",
       "      <td>Lifelong Chaze by Milind Soman CZBC2702 27.5 T...</td>\n",
       "      <td>4.3</td>\n",
       "      <td>8899</td>\n",
       "      <td>38% off</td>\n",
       "    </tr>\n",
       "    <tr>\n",
       "      <th>3</th>\n",
       "      <td>Hi-Fast Bicycle For Kids with Training Wheels ...</td>\n",
       "      <td>3.7</td>\n",
       "      <td>3299</td>\n",
       "      <td>45% off</td>\n",
       "    </tr>\n",
       "    <tr>\n",
       "      <th>4</th>\n",
       "      <td>WALTX Dune 4 - Front Suspension 26 T Fat Tyre ...</td>\n",
       "      <td>4.0</td>\n",
       "      <td>17999</td>\n",
       "      <td>36% off</td>\n",
       "    </tr>\n",
       "    <tr>\n",
       "      <th>5</th>\n",
       "      <td>MODERN Arrow 26T City Bike/Cycle In Built Carr...</td>\n",
       "      <td>4.1</td>\n",
       "      <td>5399</td>\n",
       "      <td>46% off</td>\n",
       "    </tr>\n",
       "    <tr>\n",
       "      <th>6</th>\n",
       "      <td>MODERN Arrow 26T City Bike/Cycle In Built Carr...</td>\n",
       "      <td>3.9</td>\n",
       "      <td>5399</td>\n",
       "      <td>46% off</td>\n",
       "    </tr>\n",
       "    <tr>\n",
       "      <th>7</th>\n",
       "      <td>WALTX Dune 1 26 T Fat Tyre Cycle</td>\n",
       "      <td>4.3</td>\n",
       "      <td>16999</td>\n",
       "      <td>26% off</td>\n",
       "    </tr>\n",
       "    <tr>\n",
       "      <th>8</th>\n",
       "      <td>Lifelong Falcon 27.5 T with Disc Brake and Sus...</td>\n",
       "      <td>3.7</td>\n",
       "      <td>8999</td>\n",
       "      <td>30% off</td>\n",
       "    </tr>\n",
       "    <tr>\n",
       "      <th>9</th>\n",
       "      <td>Lifelong Chaze by Milind Soman CZBC2601 26 T R...</td>\n",
       "      <td>3.4</td>\n",
       "      <td>5699</td>\n",
       "      <td>40% off</td>\n",
       "    </tr>\n",
       "    <tr>\n",
       "      <th>10</th>\n",
       "      <td>LEADER TORFIN 26T MTB Bicycle without Gear Sin...</td>\n",
       "      <td>4.4</td>\n",
       "      <td>7425</td>\n",
       "      <td>40% off</td>\n",
       "    </tr>\n",
       "    <tr>\n",
       "      <th>11</th>\n",
       "      <td>MODERN NAPPIER 26T Bike/Bicycle In Built Carri...</td>\n",
       "      <td>4.0</td>\n",
       "      <td>6299</td>\n",
       "      <td>25% off</td>\n",
       "    </tr>\n",
       "  </tbody>\n",
       "</table>\n",
       "</div>"
      ],
      "text/plain": [
       "                                         productname1  ratings1 price1  \\\n",
       "0   Lifelong Chaze by Milind Soman CZBC2703 27.5 T...       4.1   8899   \n",
       "1                     WALTX Trail 26 T Mountain Cycle       4.2  12999   \n",
       "2   Lifelong Chaze by Milind Soman CZBC2702 27.5 T...       4.3   8899   \n",
       "3   Hi-Fast Bicycle For Kids with Training Wheels ...       3.7   3299   \n",
       "4   WALTX Dune 4 - Front Suspension 26 T Fat Tyre ...       4.0  17999   \n",
       "5   MODERN Arrow 26T City Bike/Cycle In Built Carr...       4.1   5399   \n",
       "6   MODERN Arrow 26T City Bike/Cycle In Built Carr...       3.9   5399   \n",
       "7                    WALTX Dune 1 26 T Fat Tyre Cycle       4.3  16999   \n",
       "8   Lifelong Falcon 27.5 T with Disc Brake and Sus...       3.7   8999   \n",
       "9   Lifelong Chaze by Milind Soman CZBC2601 26 T R...       3.4   5699   \n",
       "10  LEADER TORFIN 26T MTB Bicycle without Gear Sin...       4.4   7425   \n",
       "11  MODERN NAPPIER 26T Bike/Bicycle In Built Carri...       4.0   6299   \n",
       "\n",
       "    offers1  \n",
       "0   38% off  \n",
       "1   23% off  \n",
       "2   38% off  \n",
       "3   45% off  \n",
       "4   36% off  \n",
       "5   46% off  \n",
       "6   46% off  \n",
       "7   26% off  \n",
       "8   30% off  \n",
       "9   40% off  \n",
       "10  40% off  \n",
       "11  25% off  "
      ]
     },
     "execution_count": 38,
     "metadata": {},
     "output_type": "execute_result"
    }
   ],
   "source": [
    "bicycledata['price1']=temp\n",
    "bicycledata"
   ]
  },
  {
   "cell_type": "code",
   "execution_count": 39,
   "id": "1e42410e",
   "metadata": {},
   "outputs": [
    {
     "data": {
      "text/html": [
       "<div>\n",
       "<style scoped>\n",
       "    .dataframe tbody tr th:only-of-type {\n",
       "        vertical-align: middle;\n",
       "    }\n",
       "\n",
       "    .dataframe tbody tr th {\n",
       "        vertical-align: top;\n",
       "    }\n",
       "\n",
       "    .dataframe thead th {\n",
       "        text-align: right;\n",
       "    }\n",
       "</style>\n",
       "<table border=\"1\" class=\"dataframe\">\n",
       "  <thead>\n",
       "    <tr style=\"text-align: right;\">\n",
       "      <th></th>\n",
       "      <th>productname1</th>\n",
       "      <th>ratings1</th>\n",
       "      <th>price1</th>\n",
       "      <th>offers1</th>\n",
       "    </tr>\n",
       "  </thead>\n",
       "  <tbody>\n",
       "    <tr>\n",
       "      <th>0</th>\n",
       "      <td>Lifelong Chaze by Milind Soman CZBC2703 27.5 T...</td>\n",
       "      <td>4.1</td>\n",
       "      <td>8899.0</td>\n",
       "      <td>38% off</td>\n",
       "    </tr>\n",
       "    <tr>\n",
       "      <th>1</th>\n",
       "      <td>WALTX Trail 26 T Mountain Cycle</td>\n",
       "      <td>4.2</td>\n",
       "      <td>12999.0</td>\n",
       "      <td>23% off</td>\n",
       "    </tr>\n",
       "    <tr>\n",
       "      <th>2</th>\n",
       "      <td>Lifelong Chaze by Milind Soman CZBC2702 27.5 T...</td>\n",
       "      <td>4.3</td>\n",
       "      <td>8899.0</td>\n",
       "      <td>38% off</td>\n",
       "    </tr>\n",
       "    <tr>\n",
       "      <th>3</th>\n",
       "      <td>Hi-Fast Bicycle For Kids with Training Wheels ...</td>\n",
       "      <td>3.7</td>\n",
       "      <td>3299.0</td>\n",
       "      <td>45% off</td>\n",
       "    </tr>\n",
       "    <tr>\n",
       "      <th>4</th>\n",
       "      <td>WALTX Dune 4 - Front Suspension 26 T Fat Tyre ...</td>\n",
       "      <td>4.0</td>\n",
       "      <td>17999.0</td>\n",
       "      <td>36% off</td>\n",
       "    </tr>\n",
       "    <tr>\n",
       "      <th>5</th>\n",
       "      <td>MODERN Arrow 26T City Bike/Cycle In Built Carr...</td>\n",
       "      <td>4.1</td>\n",
       "      <td>5399.0</td>\n",
       "      <td>46% off</td>\n",
       "    </tr>\n",
       "    <tr>\n",
       "      <th>6</th>\n",
       "      <td>MODERN Arrow 26T City Bike/Cycle In Built Carr...</td>\n",
       "      <td>3.9</td>\n",
       "      <td>5399.0</td>\n",
       "      <td>46% off</td>\n",
       "    </tr>\n",
       "    <tr>\n",
       "      <th>7</th>\n",
       "      <td>WALTX Dune 1 26 T Fat Tyre Cycle</td>\n",
       "      <td>4.3</td>\n",
       "      <td>16999.0</td>\n",
       "      <td>26% off</td>\n",
       "    </tr>\n",
       "    <tr>\n",
       "      <th>8</th>\n",
       "      <td>Lifelong Falcon 27.5 T with Disc Brake and Sus...</td>\n",
       "      <td>3.7</td>\n",
       "      <td>8999.0</td>\n",
       "      <td>30% off</td>\n",
       "    </tr>\n",
       "    <tr>\n",
       "      <th>9</th>\n",
       "      <td>Lifelong Chaze by Milind Soman CZBC2601 26 T R...</td>\n",
       "      <td>3.4</td>\n",
       "      <td>5699.0</td>\n",
       "      <td>40% off</td>\n",
       "    </tr>\n",
       "    <tr>\n",
       "      <th>10</th>\n",
       "      <td>LEADER TORFIN 26T MTB Bicycle without Gear Sin...</td>\n",
       "      <td>4.4</td>\n",
       "      <td>7425.0</td>\n",
       "      <td>40% off</td>\n",
       "    </tr>\n",
       "    <tr>\n",
       "      <th>11</th>\n",
       "      <td>MODERN NAPPIER 26T Bike/Bicycle In Built Carri...</td>\n",
       "      <td>4.0</td>\n",
       "      <td>6299.0</td>\n",
       "      <td>25% off</td>\n",
       "    </tr>\n",
       "  </tbody>\n",
       "</table>\n",
       "</div>"
      ],
      "text/plain": [
       "                                         productname1  ratings1   price1  \\\n",
       "0   Lifelong Chaze by Milind Soman CZBC2703 27.5 T...       4.1   8899.0   \n",
       "1                     WALTX Trail 26 T Mountain Cycle       4.2  12999.0   \n",
       "2   Lifelong Chaze by Milind Soman CZBC2702 27.5 T...       4.3   8899.0   \n",
       "3   Hi-Fast Bicycle For Kids with Training Wheels ...       3.7   3299.0   \n",
       "4   WALTX Dune 4 - Front Suspension 26 T Fat Tyre ...       4.0  17999.0   \n",
       "5   MODERN Arrow 26T City Bike/Cycle In Built Carr...       4.1   5399.0   \n",
       "6   MODERN Arrow 26T City Bike/Cycle In Built Carr...       3.9   5399.0   \n",
       "7                    WALTX Dune 1 26 T Fat Tyre Cycle       4.3  16999.0   \n",
       "8   Lifelong Falcon 27.5 T with Disc Brake and Sus...       3.7   8999.0   \n",
       "9   Lifelong Chaze by Milind Soman CZBC2601 26 T R...       3.4   5699.0   \n",
       "10  LEADER TORFIN 26T MTB Bicycle without Gear Sin...       4.4   7425.0   \n",
       "11  MODERN NAPPIER 26T Bike/Bicycle In Built Carri...       4.0   6299.0   \n",
       "\n",
       "    offers1  \n",
       "0   38% off  \n",
       "1   23% off  \n",
       "2   38% off  \n",
       "3   45% off  \n",
       "4   36% off  \n",
       "5   46% off  \n",
       "6   46% off  \n",
       "7   26% off  \n",
       "8   30% off  \n",
       "9   40% off  \n",
       "10  40% off  \n",
       "11  25% off  "
      ]
     },
     "execution_count": 39,
     "metadata": {},
     "output_type": "execute_result"
    }
   ],
   "source": [
    "bicycledata['price1']=bicycledata['price1'].astype(float)\n",
    "bicycledata"
   ]
  },
  {
   "cell_type": "code",
   "execution_count": 40,
   "id": "fb4bfc0c",
   "metadata": {},
   "outputs": [
    {
     "data": {
      "text/plain": [
       "productname1     object\n",
       "ratings1        float64\n",
       "price1          float64\n",
       "offers1          object\n",
       "dtype: object"
      ]
     },
     "execution_count": 40,
     "metadata": {},
     "output_type": "execute_result"
    }
   ],
   "source": [
    "bicycledata.dtypes"
   ]
  },
  {
   "cell_type": "code",
   "execution_count": 41,
   "id": "4fb375f3",
   "metadata": {},
   "outputs": [
    {
     "data": {
      "text/plain": [
       "<AxesSubplot:xlabel='productname1'>"
      ]
     },
     "execution_count": 41,
     "metadata": {},
     "output_type": "execute_result"
    },
    {
     "data": {
      "image/png": "[encoded data removed]",
      "text/plain": [
       "<Figure size 432x288 with 1 Axes>"
      ]
     },
     "metadata": {
      "needs_background": "light"
     },
     "output_type": "display_data"
    }
   ],
   "source": [
    "bicycledata.plot(kind='bar',x='productname1',y='price1')                    #Data visualization"
   ]
  },
  {
   "cell_type": "code",
   "execution_count": 42,
   "id": "0ad4de61",
   "metadata": {},
   "outputs": [
    {
     "data": {
      "text/plain": [
       "<AxesSubplot:xlabel='productname1'>"
      ]
     },
     "execution_count": 42,
     "metadata": {},
     "output_type": "execute_result"
    },
    {
     "data": {
      "image/png": "[encoded data removed]",
      "text/plain": [
       "<Figure size 432x288 with 1 Axes>"
      ]
     },
     "metadata": {
      "needs_background": "light"
     },
     "output_type": "display_data"
    }
   ],
   "source": [
    "bicycledata.plot(kind='bar',x='productname1',y='ratings1')"
   ]
  },
  {
   "cell_type": "code",
   "execution_count": 43,
   "id": "26fe5c21",
   "metadata": {},
   "outputs": [
    {
     "data": {
      "text/plain": [
       "<AxesSubplot:xlabel='productname1', ylabel='price1'>"
      ]
     },
     "execution_count": 43,
     "metadata": {},
     "output_type": "execute_result"
    },
    {
     "data": {
      "image/png": "[encoded data removed]",
      "text/plain": [
       "<Figure size 432x288 with 1 Axes>"
      ]
     },
     "metadata": {
      "needs_background": "light"
     },
     "output_type": "display_data"
    }
   ],
   "source": [
    "bicycledata.plot(kind='scatter',x='productname1',y='price1')"
   ]
  },
  {
   "cell_type": "code",
   "execution_count": 44,
   "id": "4584c1e4",
   "metadata": {},
   "outputs": [
    {
     "data": {
      "text/plain": [
       "<AxesSubplot:xlabel='productname1', ylabel='ratings1'>"
      ]
     },
     "execution_count": 44,
     "metadata": {},
     "output_type": "execute_result"
    },
    {
     "data": {
      "image/png": "[encoded data removed]",
      "text/plain": [
       "<Figure size 432x288 with 1 Axes>"
      ]
     },
     "metadata": {
      "needs_background": "light"
     },
     "output_type": "display_data"
    }
   ],
   "source": [
    "bicycledata.plot(kind='scatter',x='productname1',y='ratings1')"
   ]
  },
  {
   "cell_type": "code",
   "execution_count": 45,
   "id": "74c31fe2",
   "metadata": {},
   "outputs": [
    {
     "data": {
      "text/plain": [
       "array([[<AxesSubplot:title={'center':'3.4'}>,\n",
       "        <AxesSubplot:title={'center':'3.7'}>,\n",
       "        <AxesSubplot:title={'center':'3.9'}>],\n",
       "       [<AxesSubplot:title={'center':'4.0'}>,\n",
       "        <AxesSubplot:title={'center':'4.1'}>,\n",
       "        <AxesSubplot:title={'center':'4.2'}>],\n",
       "       [<AxesSubplot:title={'center':'4.3'}>,\n",
       "        <AxesSubplot:title={'center':'4.4'}>, <AxesSubplot:>]],\n",
       "      dtype=object)"
      ]
     },
     "execution_count": 45,
     "metadata": {},
     "output_type": "execute_result"
    },
    {
     "data": {
      "image/png": "[encoded data removed]",
      "text/plain": [
       "<Figure size 432x288 with 9 Axes>"
      ]
     },
     "metadata": {
      "needs_background": "light"
     },
     "output_type": "display_data"
    }
   ],
   "source": [
    "bicycledata.hist('price1','ratings1')"
   ]
  },
  {
   "cell_type": "code",
   "execution_count": 46,
   "id": "63a27609",
   "metadata": {},
   "outputs": [],
   "source": [
    "from bs4 import BeautifulSoup as s\n",
    "from urllib.request import urlopen as u\n",
    "import pandas as pd\n",
    "import numpy as np\n",
    "import matplotlib.pyplot as plt\n",
    "import seaborn as sns"
   ]
  },
  {
   "cell_type": "code",
   "execution_count": 47,
   "id": "eb9119ce",
   "metadata": {},
   "outputs": [],
   "source": [
    "link=\"https://www.decathlon.in/cycles/mountain-bikes-18188?id=18188&type=c\"                                              \n",
    "pagecontent=u(link)\n",
    "pagecode=pagecontent.read()"
   ]
  },
  {
   "cell_type": "code",
   "execution_count": 48,
   "id": "5cbfb2dc",
   "metadata": {},
   "outputs": [],
   "source": [
    "page_file=s(pagecode)"
   ]
  },
  {
   "cell_type": "code",
   "execution_count": 49,
   "id": "461c1420",
   "metadata": {},
   "outputs": [
    {
     "name": "stdout",
     "output_type": "stream",
     "text": [
      "Adult Hybrid Cycle Riverside 120 - Grey Yellow\n"
     ]
    }
   ],
   "source": [
    "modelname_de=page_file.find(\"div\",{\"class\":'mb-3 _1cXrNZvG3X card-title'})\n",
    "print(modelname_de.text)"
   ]
  },
  {
   "cell_type": "code",
   "execution_count": 50,
   "id": "7136c1c0",
   "metadata": {},
   "outputs": [],
   "source": [
    "productname_de=[]\n",
    "modelname_de=page_file.findAll(\"div\",{\"class\":'mb-3 _1cXrNZvG3X card-title'})\n",
    "for i in modelname_de:\n",
    "    p=i.text\n",
    "    productname_de.append(p)\n"
   ]
  },
  {
   "cell_type": "code",
   "execution_count": 51,
   "id": "20f97b85",
   "metadata": {},
   "outputs": [
    {
     "data": {
      "text/plain": [
       "['Adult Hybrid Cycle Riverside 120 - Grey Yellow',\n",
       " 'Adult Leisure Cycle My Bike - White',\n",
       " 'Adult Leisure MTB Cycle Rockrider ST30 - Blue & Fluo Orange',\n",
       " 'Adult Leisure Cycle Rockrider ST10 - Black',\n",
       " 'Adult Leisure MTB Cycle Rockrider ST20 HF - Grey',\n",
       " 'Adult Leisure MTB Cycle Rockrider ST20 LF - Teal Blue',\n",
       " 'Adult Sport MTB Cycle IN ST 530 - Chrome',\n",
       " 'Adult Sport MTB Cycle ST120 - Black/ Blue',\n",
       " 'Adult Sport MTB Cycle Rockrider ST50 - Black',\n",
       " 'Adult Sport MTB Cycle Rockrider ST540 - Blue',\n",
       " 'Adult Sport MTB Cycle Rockrider ST520 - Yellow',\n",
       " 'Adult Sport MTB Cycle - Rockrider ST520 - Grey',\n",
       " 'Adult Sport MTB Cycle Rockrider ST100 - Red',\n",
       " 'Adult Sport MTB Cycle Rockrider ST100 - Grey',\n",
       " 'Adult Sport MTB Cycle Rockrider ST530 S - Black/ Red',\n",
       " 'Adult Sport Bike Rockrider XC 50 - Dark Blue',\n",
       " 'Adult Sport MTB Cycle ST900 S - Grey/ Yellow',\n",
       " 'Adult Sport MTB Bike XC900 - Red',\n",
       " 'Adult Sport Bike Rockrider XC100 - Black']"
      ]
     },
     "execution_count": 51,
     "metadata": {},
     "output_type": "execute_result"
    }
   ],
   "source": [
    "productname_de"
   ]
  },
  {
   "cell_type": "code",
   "execution_count": 54,
   "id": "60739bef",
   "metadata": {},
   "outputs": [
    {
     "data": {
      "text/plain": [
       "12"
      ]
     },
     "execution_count": 54,
     "metadata": {},
     "output_type": "execute_result"
    }
   ],
   "source": [
    "len(productname_de)"
   ]
  },
  {
   "cell_type": "code",
   "execution_count": 53,
   "id": "09ec171e",
   "metadata": {},
   "outputs": [],
   "source": [
    "del productname_de[12:19]"
   ]
  },
  {
   "cell_type": "code",
   "execution_count": 55,
   "id": "b9548937",
   "metadata": {},
   "outputs": [
    {
     "data": {
      "text/plain": [
       "['',\n",
       " '',\n",
       " '',\n",
       " '',\n",
       " '4/5',\n",
       " '4.4/5',\n",
       " '4.6/5',\n",
       " '4.9/5',\n",
       " '4.1/5',\n",
       " '4/5',\n",
       " '4.4/5',\n",
       " '4.1/5',\n",
       " '4.2/5',\n",
       " '4/5',\n",
       " '3.8/5',\n",
       " '4.3/5',\n",
       " '4.4/5',\n",
       " '4.3/5',\n",
       " '4.7/5',\n",
       " '4.3/5',\n",
       " '4.6/5',\n",
       " '4/5']"
      ]
     },
     "execution_count": 55,
     "metadata": {},
     "output_type": "execute_result"
    }
   ],
   "source": [
    "ratings_de=[]\n",
    "modelname_de=page_file.findAll(\"div\",{\"class\":'_1Vd6H9YdFQ d-inline-block mr-4'})\n",
    "for i in modelname_de:\n",
    "    p=i.text\n",
    "    ratings_de.append(p)\n",
    "ratings_de\n"
   ]
  },
  {
   "cell_type": "code",
   "execution_count": 56,
   "id": "eeb88d18",
   "metadata": {},
   "outputs": [
    {
     "name": "stdout",
     "output_type": "stream",
     "text": [
      "['8899', '12999', '8899', '3299', '17999', '5399', '5399', '16999', '8999', '5699', '7425', '6299']\n"
     ]
    }
   ],
   "source": [
    "temp=[]\n",
    "import re\n",
    "t=re.compile(r'[^\\d]+')\n",
    "for i in d:\n",
    "    r=t.sub('',i)\n",
    "    temp.append(r)\n",
    "print(temp)"
   ]
  },
  {
   "cell_type": "code",
   "execution_count": 59,
   "id": "d194a685",
   "metadata": {},
   "outputs": [
    {
     "data": {
      "text/plain": [
       "12"
      ]
     },
     "execution_count": 59,
     "metadata": {},
     "output_type": "execute_result"
    }
   ],
   "source": [
    "len(ratings_de)"
   ]
  },
  {
   "cell_type": "code",
   "execution_count": 58,
   "id": "31570cb1",
   "metadata": {},
   "outputs": [],
   "source": [
    "del ratings_de[12:22]"
   ]
  },
  {
   "cell_type": "code",
   "execution_count": 60,
   "id": "a42cc84d",
   "metadata": {},
   "outputs": [
    {
     "data": {
      "text/plain": [
       "['₹ 11,999',\n",
       " '₹ 5,999',\n",
       " '₹ 9,999',\n",
       " '₹ 5,999',\n",
       " '₹ 7,499',\n",
       " '₹ 7,499',\n",
       " '₹ 34,999',\n",
       " '₹ 24,999',\n",
       " '₹ 12,999',\n",
       " '₹ 39,999',\n",
       " '₹ 27,999',\n",
       " '₹ 27,999',\n",
       " '₹ 17,999',\n",
       " '₹ 17,999',\n",
       " '₹ 54,999',\n",
       " '₹ 79,999',\n",
       " '₹ 89,999',\n",
       " '₹ 1,89,999',\n",
       " '₹ 94,999']"
      ]
     },
     "execution_count": 60,
     "metadata": {},
     "output_type": "execute_result"
    }
   ],
   "source": [
    "price_de=[]\n",
    "modelname_de=page_file.findAll(\"span\",{\"class\":'_3wHKeni9X- mb-3 mr-4'})\n",
    "for i in modelname_de:\n",
    "    p=i.text\n",
    "    price_de.append(p)\n",
    "price_de\n"
   ]
  },
  {
   "cell_type": "code",
   "execution_count": 63,
   "id": "c55cdf57",
   "metadata": {},
   "outputs": [
    {
     "data": {
      "text/plain": [
       "12"
      ]
     },
     "execution_count": 63,
     "metadata": {},
     "output_type": "execute_result"
    }
   ],
   "source": [
    "len(price_de)"
   ]
  },
  {
   "cell_type": "code",
   "execution_count": 62,
   "id": "bd254c20",
   "metadata": {},
   "outputs": [],
   "source": [
    "del price_de[12:19]"
   ]
  },
  {
   "cell_type": "code",
   "execution_count": 64,
   "id": "5f7421d1",
   "metadata": {},
   "outputs": [
    {
     "data": {
      "text/html": [
       "<div>\n",
       "<style scoped>\n",
       "    .dataframe tbody tr th:only-of-type {\n",
       "        vertical-align: middle;\n",
       "    }\n",
       "\n",
       "    .dataframe tbody tr th {\n",
       "        vertical-align: top;\n",
       "    }\n",
       "\n",
       "    .dataframe thead th {\n",
       "        text-align: right;\n",
       "    }\n",
       "</style>\n",
       "<table border=\"1\" class=\"dataframe\">\n",
       "  <thead>\n",
       "    <tr style=\"text-align: right;\">\n",
       "      <th></th>\n",
       "      <th>productname2</th>\n",
       "      <th>ratings2</th>\n",
       "      <th>price2</th>\n",
       "    </tr>\n",
       "  </thead>\n",
       "  <tbody>\n",
       "    <tr>\n",
       "      <th>0</th>\n",
       "      <td>Adult Hybrid Cycle Riverside 120 - Grey Yellow</td>\n",
       "      <td></td>\n",
       "      <td>₹ 11,999</td>\n",
       "    </tr>\n",
       "    <tr>\n",
       "      <th>1</th>\n",
       "      <td>Adult Leisure Cycle My Bike - White</td>\n",
       "      <td></td>\n",
       "      <td>₹ 5,999</td>\n",
       "    </tr>\n",
       "    <tr>\n",
       "      <th>2</th>\n",
       "      <td>Adult Leisure MTB Cycle Rockrider ST30 - Blue ...</td>\n",
       "      <td></td>\n",
       "      <td>₹ 9,999</td>\n",
       "    </tr>\n",
       "    <tr>\n",
       "      <th>3</th>\n",
       "      <td>Adult Leisure Cycle Rockrider ST10 - Black</td>\n",
       "      <td></td>\n",
       "      <td>₹ 5,999</td>\n",
       "    </tr>\n",
       "    <tr>\n",
       "      <th>4</th>\n",
       "      <td>Adult Leisure MTB Cycle Rockrider ST20 HF - Grey</td>\n",
       "      <td>4/5</td>\n",
       "      <td>₹ 7,499</td>\n",
       "    </tr>\n",
       "    <tr>\n",
       "      <th>5</th>\n",
       "      <td>Adult Leisure MTB Cycle Rockrider ST20 LF - Te...</td>\n",
       "      <td>4.4/5</td>\n",
       "      <td>₹ 7,499</td>\n",
       "    </tr>\n",
       "    <tr>\n",
       "      <th>6</th>\n",
       "      <td>Adult Sport MTB Cycle IN ST 530 - Chrome</td>\n",
       "      <td>4.6/5</td>\n",
       "      <td>₹ 34,999</td>\n",
       "    </tr>\n",
       "    <tr>\n",
       "      <th>7</th>\n",
       "      <td>Adult Sport MTB Cycle ST120 - Black/ Blue</td>\n",
       "      <td>4.9/5</td>\n",
       "      <td>₹ 24,999</td>\n",
       "    </tr>\n",
       "    <tr>\n",
       "      <th>8</th>\n",
       "      <td>Adult Sport MTB Cycle Rockrider ST50 - Black</td>\n",
       "      <td>4.1/5</td>\n",
       "      <td>₹ 12,999</td>\n",
       "    </tr>\n",
       "    <tr>\n",
       "      <th>9</th>\n",
       "      <td>Adult Sport MTB Cycle Rockrider ST540 - Blue</td>\n",
       "      <td>4/5</td>\n",
       "      <td>₹ 39,999</td>\n",
       "    </tr>\n",
       "    <tr>\n",
       "      <th>10</th>\n",
       "      <td>Adult Sport MTB Cycle Rockrider ST520 - Yellow</td>\n",
       "      <td>4.4/5</td>\n",
       "      <td>₹ 27,999</td>\n",
       "    </tr>\n",
       "    <tr>\n",
       "      <th>11</th>\n",
       "      <td>Adult Sport MTB Cycle - Rockrider ST520 - Grey</td>\n",
       "      <td>4.1/5</td>\n",
       "      <td>₹ 27,999</td>\n",
       "    </tr>\n",
       "  </tbody>\n",
       "</table>\n",
       "</div>"
      ],
      "text/plain": [
       "                                         productname2 ratings2    price2\n",
       "0      Adult Hybrid Cycle Riverside 120 - Grey Yellow           ₹ 11,999\n",
       "1                 Adult Leisure Cycle My Bike - White            ₹ 5,999\n",
       "2   Adult Leisure MTB Cycle Rockrider ST30 - Blue ...            ₹ 9,999\n",
       "3          Adult Leisure Cycle Rockrider ST10 - Black            ₹ 5,999\n",
       "4    Adult Leisure MTB Cycle Rockrider ST20 HF - Grey      4/5   ₹ 7,499\n",
       "5   Adult Leisure MTB Cycle Rockrider ST20 LF - Te...    4.4/5   ₹ 7,499\n",
       "6            Adult Sport MTB Cycle IN ST 530 - Chrome    4.6/5  ₹ 34,999\n",
       "7           Adult Sport MTB Cycle ST120 - Black/ Blue    4.9/5  ₹ 24,999\n",
       "8        Adult Sport MTB Cycle Rockrider ST50 - Black    4.1/5  ₹ 12,999\n",
       "9        Adult Sport MTB Cycle Rockrider ST540 - Blue      4/5  ₹ 39,999\n",
       "10     Adult Sport MTB Cycle Rockrider ST520 - Yellow    4.4/5  ₹ 27,999\n",
       "11     Adult Sport MTB Cycle - Rockrider ST520 - Grey    4.1/5  ₹ 27,999"
      ]
     },
     "execution_count": 64,
     "metadata": {},
     "output_type": "execute_result"
    }
   ],
   "source": [
    "d2={'productname2':productname_de,'ratings2':ratings_de,'price2':price_de}\n",
    "bicycledata_de=pd.DataFrame(d2)\n",
    "bicycledata_de"
   ]
  },
  {
   "cell_type": "code",
   "execution_count": 65,
   "id": "5d414dbd",
   "metadata": {},
   "outputs": [],
   "source": [
    "bicycledata_de.to_csv(\"source2.csv\")"
   ]
  },
  {
   "cell_type": "code",
   "execution_count": 66,
   "id": "6f4334de",
   "metadata": {},
   "outputs": [
    {
     "data": {
      "text/html": [
       "<div>\n",
       "<style scoped>\n",
       "    .dataframe tbody tr th:only-of-type {\n",
       "        vertical-align: middle;\n",
       "    }\n",
       "\n",
       "    .dataframe tbody tr th {\n",
       "        vertical-align: top;\n",
       "    }\n",
       "\n",
       "    .dataframe thead th {\n",
       "        text-align: right;\n",
       "    }\n",
       "</style>\n",
       "<table border=\"1\" class=\"dataframe\">\n",
       "  <thead>\n",
       "    <tr style=\"text-align: right;\">\n",
       "      <th></th>\n",
       "      <th>Unnamed: 0</th>\n",
       "      <th>productname2</th>\n",
       "      <th>ratings2</th>\n",
       "      <th>price2</th>\n",
       "    </tr>\n",
       "  </thead>\n",
       "  <tbody>\n",
       "    <tr>\n",
       "      <th>0</th>\n",
       "      <td>0</td>\n",
       "      <td>Adult Hybrid Cycle Riverside 120 - Grey Yellow</td>\n",
       "      <td>NaN</td>\n",
       "      <td>₹ 11,999</td>\n",
       "    </tr>\n",
       "    <tr>\n",
       "      <th>1</th>\n",
       "      <td>1</td>\n",
       "      <td>Adult Leisure Cycle My Bike - White</td>\n",
       "      <td>NaN</td>\n",
       "      <td>₹ 5,999</td>\n",
       "    </tr>\n",
       "    <tr>\n",
       "      <th>2</th>\n",
       "      <td>2</td>\n",
       "      <td>Adult Leisure MTB Cycle Rockrider ST30 - Blue ...</td>\n",
       "      <td>NaN</td>\n",
       "      <td>₹ 9,999</td>\n",
       "    </tr>\n",
       "    <tr>\n",
       "      <th>3</th>\n",
       "      <td>3</td>\n",
       "      <td>Adult Leisure Cycle Rockrider ST10 - Black</td>\n",
       "      <td>NaN</td>\n",
       "      <td>₹ 5,999</td>\n",
       "    </tr>\n",
       "    <tr>\n",
       "      <th>4</th>\n",
       "      <td>4</td>\n",
       "      <td>Adult Leisure MTB Cycle Rockrider ST20 HF - Grey</td>\n",
       "      <td>4/5</td>\n",
       "      <td>₹ 7,499</td>\n",
       "    </tr>\n",
       "    <tr>\n",
       "      <th>5</th>\n",
       "      <td>5</td>\n",
       "      <td>Adult Leisure MTB Cycle Rockrider ST20 LF - Te...</td>\n",
       "      <td>4.4/5</td>\n",
       "      <td>₹ 7,499</td>\n",
       "    </tr>\n",
       "    <tr>\n",
       "      <th>6</th>\n",
       "      <td>6</td>\n",
       "      <td>Adult Sport MTB Cycle IN ST 530 - Chrome</td>\n",
       "      <td>4.6/5</td>\n",
       "      <td>₹ 34,999</td>\n",
       "    </tr>\n",
       "    <tr>\n",
       "      <th>7</th>\n",
       "      <td>7</td>\n",
       "      <td>Adult Sport MTB Cycle ST120 - Black/ Blue</td>\n",
       "      <td>4.9/5</td>\n",
       "      <td>₹ 24,999</td>\n",
       "    </tr>\n",
       "    <tr>\n",
       "      <th>8</th>\n",
       "      <td>8</td>\n",
       "      <td>Adult Sport MTB Cycle Rockrider ST50 - Black</td>\n",
       "      <td>4.1/5</td>\n",
       "      <td>₹ 12,999</td>\n",
       "    </tr>\n",
       "    <tr>\n",
       "      <th>9</th>\n",
       "      <td>9</td>\n",
       "      <td>Adult Sport MTB Cycle Rockrider ST540 - Blue</td>\n",
       "      <td>4/5</td>\n",
       "      <td>₹ 39,999</td>\n",
       "    </tr>\n",
       "    <tr>\n",
       "      <th>10</th>\n",
       "      <td>10</td>\n",
       "      <td>Adult Sport MTB Cycle Rockrider ST520 - Yellow</td>\n",
       "      <td>4.4/5</td>\n",
       "      <td>₹ 27,999</td>\n",
       "    </tr>\n",
       "    <tr>\n",
       "      <th>11</th>\n",
       "      <td>11</td>\n",
       "      <td>Adult Sport MTB Cycle - Rockrider ST520 - Grey</td>\n",
       "      <td>4.1/5</td>\n",
       "      <td>₹ 27,999</td>\n",
       "    </tr>\n",
       "  </tbody>\n",
       "</table>\n",
       "</div>"
      ],
      "text/plain": [
       "    Unnamed: 0                                       productname2 ratings2  \\\n",
       "0            0     Adult Hybrid Cycle Riverside 120 - Grey Yellow      NaN   \n",
       "1            1                Adult Leisure Cycle My Bike - White      NaN   \n",
       "2            2  Adult Leisure MTB Cycle Rockrider ST30 - Blue ...      NaN   \n",
       "3            3         Adult Leisure Cycle Rockrider ST10 - Black      NaN   \n",
       "4            4   Adult Leisure MTB Cycle Rockrider ST20 HF - Grey      4/5   \n",
       "5            5  Adult Leisure MTB Cycle Rockrider ST20 LF - Te...    4.4/5   \n",
       "6            6           Adult Sport MTB Cycle IN ST 530 - Chrome    4.6/5   \n",
       "7            7          Adult Sport MTB Cycle ST120 - Black/ Blue    4.9/5   \n",
       "8            8       Adult Sport MTB Cycle Rockrider ST50 - Black    4.1/5   \n",
       "9            9       Adult Sport MTB Cycle Rockrider ST540 - Blue      4/5   \n",
       "10          10     Adult Sport MTB Cycle Rockrider ST520 - Yellow    4.4/5   \n",
       "11          11     Adult Sport MTB Cycle - Rockrider ST520 - Grey    4.1/5   \n",
       "\n",
       "      price2  \n",
       "0   ₹ 11,999  \n",
       "1    ₹ 5,999  \n",
       "2    ₹ 9,999  \n",
       "3    ₹ 5,999  \n",
       "4    ₹ 7,499  \n",
       "5    ₹ 7,499  \n",
       "6   ₹ 34,999  \n",
       "7   ₹ 24,999  \n",
       "8   ₹ 12,999  \n",
       "9   ₹ 39,999  \n",
       "10  ₹ 27,999  \n",
       "11  ₹ 27,999  "
      ]
     },
     "execution_count": 66,
     "metadata": {},
     "output_type": "execute_result"
    }
   ],
   "source": [
    "data=pd.read_csv(\"source2.csv\")\n",
    "data"
   ]
  },
  {
   "cell_type": "code",
   "execution_count": 67,
   "id": "b01c9c62",
   "metadata": {},
   "outputs": [
    {
     "name": "stdout",
     "output_type": "stream",
     "text": [
      "['', '', '', '', '4', '4.4', '4.6', '4.9', '4.1', '4', '4.4', '4.1']\n"
     ]
    }
   ],
   "source": [
    "d=bicycledata_de['ratings2']\n",
    "temp=[]\n",
    "import re\n",
    "t=re.compile(r'[^\\d](5)+')\n",
    "for i in d:\n",
    "    r=t.sub('',i)\n",
    "    temp.append(r)\n",
    "print(temp)"
   ]
  },
  {
   "cell_type": "code",
   "execution_count": 68,
   "id": "6eb9f1b7",
   "metadata": {},
   "outputs": [
    {
     "data": {
      "text/html": [
       "<div>\n",
       "<style scoped>\n",
       "    .dataframe tbody tr th:only-of-type {\n",
       "        vertical-align: middle;\n",
       "    }\n",
       "\n",
       "    .dataframe tbody tr th {\n",
       "        vertical-align: top;\n",
       "    }\n",
       "\n",
       "    .dataframe thead th {\n",
       "        text-align: right;\n",
       "    }\n",
       "</style>\n",
       "<table border=\"1\" class=\"dataframe\">\n",
       "  <thead>\n",
       "    <tr style=\"text-align: right;\">\n",
       "      <th></th>\n",
       "      <th>productname2</th>\n",
       "      <th>ratings2</th>\n",
       "      <th>price2</th>\n",
       "    </tr>\n",
       "  </thead>\n",
       "  <tbody>\n",
       "    <tr>\n",
       "      <th>0</th>\n",
       "      <td>Adult Hybrid Cycle Riverside 120 - Grey Yellow</td>\n",
       "      <td></td>\n",
       "      <td>₹ 11,999</td>\n",
       "    </tr>\n",
       "    <tr>\n",
       "      <th>1</th>\n",
       "      <td>Adult Leisure Cycle My Bike - White</td>\n",
       "      <td></td>\n",
       "      <td>₹ 5,999</td>\n",
       "    </tr>\n",
       "    <tr>\n",
       "      <th>2</th>\n",
       "      <td>Adult Leisure MTB Cycle Rockrider ST30 - Blue ...</td>\n",
       "      <td></td>\n",
       "      <td>₹ 9,999</td>\n",
       "    </tr>\n",
       "    <tr>\n",
       "      <th>3</th>\n",
       "      <td>Adult Leisure Cycle Rockrider ST10 - Black</td>\n",
       "      <td></td>\n",
       "      <td>₹ 5,999</td>\n",
       "    </tr>\n",
       "    <tr>\n",
       "      <th>4</th>\n",
       "      <td>Adult Leisure MTB Cycle Rockrider ST20 HF - Grey</td>\n",
       "      <td>4</td>\n",
       "      <td>₹ 7,499</td>\n",
       "    </tr>\n",
       "    <tr>\n",
       "      <th>5</th>\n",
       "      <td>Adult Leisure MTB Cycle Rockrider ST20 LF - Te...</td>\n",
       "      <td>4.4</td>\n",
       "      <td>₹ 7,499</td>\n",
       "    </tr>\n",
       "    <tr>\n",
       "      <th>6</th>\n",
       "      <td>Adult Sport MTB Cycle IN ST 530 - Chrome</td>\n",
       "      <td>4.6</td>\n",
       "      <td>₹ 34,999</td>\n",
       "    </tr>\n",
       "    <tr>\n",
       "      <th>7</th>\n",
       "      <td>Adult Sport MTB Cycle ST120 - Black/ Blue</td>\n",
       "      <td>4.9</td>\n",
       "      <td>₹ 24,999</td>\n",
       "    </tr>\n",
       "    <tr>\n",
       "      <th>8</th>\n",
       "      <td>Adult Sport MTB Cycle Rockrider ST50 - Black</td>\n",
       "      <td>4.1</td>\n",
       "      <td>₹ 12,999</td>\n",
       "    </tr>\n",
       "    <tr>\n",
       "      <th>9</th>\n",
       "      <td>Adult Sport MTB Cycle Rockrider ST540 - Blue</td>\n",
       "      <td>4</td>\n",
       "      <td>₹ 39,999</td>\n",
       "    </tr>\n",
       "    <tr>\n",
       "      <th>10</th>\n",
       "      <td>Adult Sport MTB Cycle Rockrider ST520 - Yellow</td>\n",
       "      <td>4.4</td>\n",
       "      <td>₹ 27,999</td>\n",
       "    </tr>\n",
       "    <tr>\n",
       "      <th>11</th>\n",
       "      <td>Adult Sport MTB Cycle - Rockrider ST520 - Grey</td>\n",
       "      <td>4.1</td>\n",
       "      <td>₹ 27,999</td>\n",
       "    </tr>\n",
       "  </tbody>\n",
       "</table>\n",
       "</div>"
      ],
      "text/plain": [
       "                                         productname2 ratings2    price2\n",
       "0      Adult Hybrid Cycle Riverside 120 - Grey Yellow           ₹ 11,999\n",
       "1                 Adult Leisure Cycle My Bike - White            ₹ 5,999\n",
       "2   Adult Leisure MTB Cycle Rockrider ST30 - Blue ...            ₹ 9,999\n",
       "3          Adult Leisure Cycle Rockrider ST10 - Black            ₹ 5,999\n",
       "4    Adult Leisure MTB Cycle Rockrider ST20 HF - Grey        4   ₹ 7,499\n",
       "5   Adult Leisure MTB Cycle Rockrider ST20 LF - Te...      4.4   ₹ 7,499\n",
       "6            Adult Sport MTB Cycle IN ST 530 - Chrome      4.6  ₹ 34,999\n",
       "7           Adult Sport MTB Cycle ST120 - Black/ Blue      4.9  ₹ 24,999\n",
       "8        Adult Sport MTB Cycle Rockrider ST50 - Black      4.1  ₹ 12,999\n",
       "9        Adult Sport MTB Cycle Rockrider ST540 - Blue        4  ₹ 39,999\n",
       "10     Adult Sport MTB Cycle Rockrider ST520 - Yellow      4.4  ₹ 27,999\n",
       "11     Adult Sport MTB Cycle - Rockrider ST520 - Grey      4.1  ₹ 27,999"
      ]
     },
     "execution_count": 68,
     "metadata": {},
     "output_type": "execute_result"
    }
   ],
   "source": [
    "bicycledata_de['ratings2']=temp\n",
    "bicycledata_de"
   ]
  },
  {
   "cell_type": "code",
   "execution_count": 69,
   "id": "6f329b4e",
   "metadata": {},
   "outputs": [
    {
     "name": "stdout",
     "output_type": "stream",
     "text": [
      "['11999', '5999', '9999', '5999', '7499', '7499', '34999', '24999', '12999', '39999', '27999', '27999']\n"
     ]
    }
   ],
   "source": [
    "d=bicycledata_de['price2']\n",
    "temp=[]\n",
    "import re\n",
    "t=re.compile(r'[^\\d]+')\n",
    "for i in d:\n",
    "    r=t.sub('',i)\n",
    "    temp.append(r)\n",
    "print(temp)"
   ]
  },
  {
   "cell_type": "code",
   "execution_count": 70,
   "id": "ec3c1ead",
   "metadata": {},
   "outputs": [
    {
     "data": {
      "text/html": [
       "<div>\n",
       "<style scoped>\n",
       "    .dataframe tbody tr th:only-of-type {\n",
       "        vertical-align: middle;\n",
       "    }\n",
       "\n",
       "    .dataframe tbody tr th {\n",
       "        vertical-align: top;\n",
       "    }\n",
       "\n",
       "    .dataframe thead th {\n",
       "        text-align: right;\n",
       "    }\n",
       "</style>\n",
       "<table border=\"1\" class=\"dataframe\">\n",
       "  <thead>\n",
       "    <tr style=\"text-align: right;\">\n",
       "      <th></th>\n",
       "      <th>productname2</th>\n",
       "      <th>ratings2</th>\n",
       "      <th>price2</th>\n",
       "    </tr>\n",
       "  </thead>\n",
       "  <tbody>\n",
       "    <tr>\n",
       "      <th>0</th>\n",
       "      <td>Adult Hybrid Cycle Riverside 120 - Grey Yellow</td>\n",
       "      <td></td>\n",
       "      <td>11999</td>\n",
       "    </tr>\n",
       "    <tr>\n",
       "      <th>1</th>\n",
       "      <td>Adult Leisure Cycle My Bike - White</td>\n",
       "      <td></td>\n",
       "      <td>5999</td>\n",
       "    </tr>\n",
       "    <tr>\n",
       "      <th>2</th>\n",
       "      <td>Adult Leisure MTB Cycle Rockrider ST30 - Blue ...</td>\n",
       "      <td></td>\n",
       "      <td>9999</td>\n",
       "    </tr>\n",
       "    <tr>\n",
       "      <th>3</th>\n",
       "      <td>Adult Leisure Cycle Rockrider ST10 - Black</td>\n",
       "      <td></td>\n",
       "      <td>5999</td>\n",
       "    </tr>\n",
       "    <tr>\n",
       "      <th>4</th>\n",
       "      <td>Adult Leisure MTB Cycle Rockrider ST20 HF - Grey</td>\n",
       "      <td>4</td>\n",
       "      <td>7499</td>\n",
       "    </tr>\n",
       "    <tr>\n",
       "      <th>5</th>\n",
       "      <td>Adult Leisure MTB Cycle Rockrider ST20 LF - Te...</td>\n",
       "      <td>4.4</td>\n",
       "      <td>7499</td>\n",
       "    </tr>\n",
       "    <tr>\n",
       "      <th>6</th>\n",
       "      <td>Adult Sport MTB Cycle IN ST 530 - Chrome</td>\n",
       "      <td>4.6</td>\n",
       "      <td>34999</td>\n",
       "    </tr>\n",
       "    <tr>\n",
       "      <th>7</th>\n",
       "      <td>Adult Sport MTB Cycle ST120 - Black/ Blue</td>\n",
       "      <td>4.9</td>\n",
       "      <td>24999</td>\n",
       "    </tr>\n",
       "    <tr>\n",
       "      <th>8</th>\n",
       "      <td>Adult Sport MTB Cycle Rockrider ST50 - Black</td>\n",
       "      <td>4.1</td>\n",
       "      <td>12999</td>\n",
       "    </tr>\n",
       "    <tr>\n",
       "      <th>9</th>\n",
       "      <td>Adult Sport MTB Cycle Rockrider ST540 - Blue</td>\n",
       "      <td>4</td>\n",
       "      <td>39999</td>\n",
       "    </tr>\n",
       "    <tr>\n",
       "      <th>10</th>\n",
       "      <td>Adult Sport MTB Cycle Rockrider ST520 - Yellow</td>\n",
       "      <td>4.4</td>\n",
       "      <td>27999</td>\n",
       "    </tr>\n",
       "    <tr>\n",
       "      <th>11</th>\n",
       "      <td>Adult Sport MTB Cycle - Rockrider ST520 - Grey</td>\n",
       "      <td>4.1</td>\n",
       "      <td>27999</td>\n",
       "    </tr>\n",
       "  </tbody>\n",
       "</table>\n",
       "</div>"
      ],
      "text/plain": [
       "                                         productname2 ratings2 price2\n",
       "0      Adult Hybrid Cycle Riverside 120 - Grey Yellow           11999\n",
       "1                 Adult Leisure Cycle My Bike - White            5999\n",
       "2   Adult Leisure MTB Cycle Rockrider ST30 - Blue ...            9999\n",
       "3          Adult Leisure Cycle Rockrider ST10 - Black            5999\n",
       "4    Adult Leisure MTB Cycle Rockrider ST20 HF - Grey        4   7499\n",
       "5   Adult Leisure MTB Cycle Rockrider ST20 LF - Te...      4.4   7499\n",
       "6            Adult Sport MTB Cycle IN ST 530 - Chrome      4.6  34999\n",
       "7           Adult Sport MTB Cycle ST120 - Black/ Blue      4.9  24999\n",
       "8        Adult Sport MTB Cycle Rockrider ST50 - Black      4.1  12999\n",
       "9        Adult Sport MTB Cycle Rockrider ST540 - Blue        4  39999\n",
       "10     Adult Sport MTB Cycle Rockrider ST520 - Yellow      4.4  27999\n",
       "11     Adult Sport MTB Cycle - Rockrider ST520 - Grey      4.1  27999"
      ]
     },
     "execution_count": 70,
     "metadata": {},
     "output_type": "execute_result"
    }
   ],
   "source": [
    "bicycledata_de['price2']=temp\n",
    "bicycledata_de"
   ]
  },
  {
   "cell_type": "code",
   "execution_count": 71,
   "id": "ac728b7c",
   "metadata": {},
   "outputs": [
    {
     "data": {
      "text/html": [
       "<div>\n",
       "<style scoped>\n",
       "    .dataframe tbody tr th:only-of-type {\n",
       "        vertical-align: middle;\n",
       "    }\n",
       "\n",
       "    .dataframe tbody tr th {\n",
       "        vertical-align: top;\n",
       "    }\n",
       "\n",
       "    .dataframe thead th {\n",
       "        text-align: right;\n",
       "    }\n",
       "</style>\n",
       "<table border=\"1\" class=\"dataframe\">\n",
       "  <thead>\n",
       "    <tr style=\"text-align: right;\">\n",
       "      <th></th>\n",
       "      <th>productname2</th>\n",
       "      <th>ratings2</th>\n",
       "      <th>price2</th>\n",
       "    </tr>\n",
       "  </thead>\n",
       "  <tbody>\n",
       "    <tr>\n",
       "      <th>0</th>\n",
       "      <td>Adult Hybrid Cycle Riverside 120 - Grey Yellow</td>\n",
       "      <td></td>\n",
       "      <td>11999.0</td>\n",
       "    </tr>\n",
       "    <tr>\n",
       "      <th>1</th>\n",
       "      <td>Adult Leisure Cycle My Bike - White</td>\n",
       "      <td></td>\n",
       "      <td>5999.0</td>\n",
       "    </tr>\n",
       "    <tr>\n",
       "      <th>2</th>\n",
       "      <td>Adult Leisure MTB Cycle Rockrider ST30 - Blue ...</td>\n",
       "      <td></td>\n",
       "      <td>9999.0</td>\n",
       "    </tr>\n",
       "    <tr>\n",
       "      <th>3</th>\n",
       "      <td>Adult Leisure Cycle Rockrider ST10 - Black</td>\n",
       "      <td></td>\n",
       "      <td>5999.0</td>\n",
       "    </tr>\n",
       "    <tr>\n",
       "      <th>4</th>\n",
       "      <td>Adult Leisure MTB Cycle Rockrider ST20 HF - Grey</td>\n",
       "      <td>4</td>\n",
       "      <td>7499.0</td>\n",
       "    </tr>\n",
       "    <tr>\n",
       "      <th>5</th>\n",
       "      <td>Adult Leisure MTB Cycle Rockrider ST20 LF - Te...</td>\n",
       "      <td>4.4</td>\n",
       "      <td>7499.0</td>\n",
       "    </tr>\n",
       "    <tr>\n",
       "      <th>6</th>\n",
       "      <td>Adult Sport MTB Cycle IN ST 530 - Chrome</td>\n",
       "      <td>4.6</td>\n",
       "      <td>34999.0</td>\n",
       "    </tr>\n",
       "    <tr>\n",
       "      <th>7</th>\n",
       "      <td>Adult Sport MTB Cycle ST120 - Black/ Blue</td>\n",
       "      <td>4.9</td>\n",
       "      <td>24999.0</td>\n",
       "    </tr>\n",
       "    <tr>\n",
       "      <th>8</th>\n",
       "      <td>Adult Sport MTB Cycle Rockrider ST50 - Black</td>\n",
       "      <td>4.1</td>\n",
       "      <td>12999.0</td>\n",
       "    </tr>\n",
       "    <tr>\n",
       "      <th>9</th>\n",
       "      <td>Adult Sport MTB Cycle Rockrider ST540 - Blue</td>\n",
       "      <td>4</td>\n",
       "      <td>39999.0</td>\n",
       "    </tr>\n",
       "    <tr>\n",
       "      <th>10</th>\n",
       "      <td>Adult Sport MTB Cycle Rockrider ST520 - Yellow</td>\n",
       "      <td>4.4</td>\n",
       "      <td>27999.0</td>\n",
       "    </tr>\n",
       "    <tr>\n",
       "      <th>11</th>\n",
       "      <td>Adult Sport MTB Cycle - Rockrider ST520 - Grey</td>\n",
       "      <td>4.1</td>\n",
       "      <td>27999.0</td>\n",
       "    </tr>\n",
       "  </tbody>\n",
       "</table>\n",
       "</div>"
      ],
      "text/plain": [
       "                                         productname2 ratings2   price2\n",
       "0      Adult Hybrid Cycle Riverside 120 - Grey Yellow           11999.0\n",
       "1                 Adult Leisure Cycle My Bike - White            5999.0\n",
       "2   Adult Leisure MTB Cycle Rockrider ST30 - Blue ...            9999.0\n",
       "3          Adult Leisure Cycle Rockrider ST10 - Black            5999.0\n",
       "4    Adult Leisure MTB Cycle Rockrider ST20 HF - Grey        4   7499.0\n",
       "5   Adult Leisure MTB Cycle Rockrider ST20 LF - Te...      4.4   7499.0\n",
       "6            Adult Sport MTB Cycle IN ST 530 - Chrome      4.6  34999.0\n",
       "7           Adult Sport MTB Cycle ST120 - Black/ Blue      4.9  24999.0\n",
       "8        Adult Sport MTB Cycle Rockrider ST50 - Black      4.1  12999.0\n",
       "9        Adult Sport MTB Cycle Rockrider ST540 - Blue        4  39999.0\n",
       "10     Adult Sport MTB Cycle Rockrider ST520 - Yellow      4.4  27999.0\n",
       "11     Adult Sport MTB Cycle - Rockrider ST520 - Grey      4.1  27999.0"
      ]
     },
     "execution_count": 71,
     "metadata": {},
     "output_type": "execute_result"
    }
   ],
   "source": [
    "bicycledata_de['price2']=bicycledata_de['price2'].astype(float)\n",
    "bicycledata_de"
   ]
  },
  {
   "cell_type": "code",
   "execution_count": 72,
   "id": "ad4a38d8",
   "metadata": {},
   "outputs": [
    {
     "data": {
      "text/plain": [
       "<AxesSubplot:xlabel='productname2'>"
      ]
     },
     "execution_count": 72,
     "metadata": {},
     "output_type": "execute_result"
    },
    {
     "data": {
      "image/png": "[encoded data removed]",
      "text/plain": [
       "<Figure size 432x288 with 1 Axes>"
      ]
     },
     "metadata": {
      "needs_background": "light"
     },
     "output_type": "display_data"
    }
   ],
   "source": [
    "bicycledata_de.plot(kind='bar',x='productname2',y='price2')"
   ]
  },
  {
   "cell_type": "code",
   "execution_count": 73,
   "id": "4e6af5a6",
   "metadata": {},
   "outputs": [],
   "source": [
    "bicycledata_de['ratings2']=pd.to_numeric(bicycledata_de['ratings2'],downcast=\"float\")             #data cleansing"
   ]
  },
  {
   "cell_type": "code",
   "execution_count": 74,
   "id": "2610a802",
   "metadata": {},
   "outputs": [
    {
     "data": {
      "text/html": [
       "<div>\n",
       "<style scoped>\n",
       "    .dataframe tbody tr th:only-of-type {\n",
       "        vertical-align: middle;\n",
       "    }\n",
       "\n",
       "    .dataframe tbody tr th {\n",
       "        vertical-align: top;\n",
       "    }\n",
       "\n",
       "    .dataframe thead th {\n",
       "        text-align: right;\n",
       "    }\n",
       "</style>\n",
       "<table border=\"1\" class=\"dataframe\">\n",
       "  <thead>\n",
       "    <tr style=\"text-align: right;\">\n",
       "      <th></th>\n",
       "      <th>productname2</th>\n",
       "      <th>ratings2</th>\n",
       "      <th>price2</th>\n",
       "    </tr>\n",
       "  </thead>\n",
       "  <tbody>\n",
       "    <tr>\n",
       "      <th>0</th>\n",
       "      <td>Adult Hybrid Cycle Riverside 120 - Grey Yellow</td>\n",
       "      <td>NaN</td>\n",
       "      <td>11999.0</td>\n",
       "    </tr>\n",
       "    <tr>\n",
       "      <th>1</th>\n",
       "      <td>Adult Leisure Cycle My Bike - White</td>\n",
       "      <td>NaN</td>\n",
       "      <td>5999.0</td>\n",
       "    </tr>\n",
       "    <tr>\n",
       "      <th>2</th>\n",
       "      <td>Adult Leisure MTB Cycle Rockrider ST30 - Blue ...</td>\n",
       "      <td>NaN</td>\n",
       "      <td>9999.0</td>\n",
       "    </tr>\n",
       "    <tr>\n",
       "      <th>3</th>\n",
       "      <td>Adult Leisure Cycle Rockrider ST10 - Black</td>\n",
       "      <td>NaN</td>\n",
       "      <td>5999.0</td>\n",
       "    </tr>\n",
       "    <tr>\n",
       "      <th>4</th>\n",
       "      <td>Adult Leisure MTB Cycle Rockrider ST20 HF - Grey</td>\n",
       "      <td>4.0</td>\n",
       "      <td>7499.0</td>\n",
       "    </tr>\n",
       "    <tr>\n",
       "      <th>5</th>\n",
       "      <td>Adult Leisure MTB Cycle Rockrider ST20 LF - Te...</td>\n",
       "      <td>4.4</td>\n",
       "      <td>7499.0</td>\n",
       "    </tr>\n",
       "    <tr>\n",
       "      <th>6</th>\n",
       "      <td>Adult Sport MTB Cycle IN ST 530 - Chrome</td>\n",
       "      <td>4.6</td>\n",
       "      <td>34999.0</td>\n",
       "    </tr>\n",
       "    <tr>\n",
       "      <th>7</th>\n",
       "      <td>Adult Sport MTB Cycle ST120 - Black/ Blue</td>\n",
       "      <td>4.9</td>\n",
       "      <td>24999.0</td>\n",
       "    </tr>\n",
       "    <tr>\n",
       "      <th>8</th>\n",
       "      <td>Adult Sport MTB Cycle Rockrider ST50 - Black</td>\n",
       "      <td>4.1</td>\n",
       "      <td>12999.0</td>\n",
       "    </tr>\n",
       "    <tr>\n",
       "      <th>9</th>\n",
       "      <td>Adult Sport MTB Cycle Rockrider ST540 - Blue</td>\n",
       "      <td>4.0</td>\n",
       "      <td>39999.0</td>\n",
       "    </tr>\n",
       "    <tr>\n",
       "      <th>10</th>\n",
       "      <td>Adult Sport MTB Cycle Rockrider ST520 - Yellow</td>\n",
       "      <td>4.4</td>\n",
       "      <td>27999.0</td>\n",
       "    </tr>\n",
       "    <tr>\n",
       "      <th>11</th>\n",
       "      <td>Adult Sport MTB Cycle - Rockrider ST520 - Grey</td>\n",
       "      <td>4.1</td>\n",
       "      <td>27999.0</td>\n",
       "    </tr>\n",
       "  </tbody>\n",
       "</table>\n",
       "</div>"
      ],
      "text/plain": [
       "                                         productname2  ratings2   price2\n",
       "0      Adult Hybrid Cycle Riverside 120 - Grey Yellow       NaN  11999.0\n",
       "1                 Adult Leisure Cycle My Bike - White       NaN   5999.0\n",
       "2   Adult Leisure MTB Cycle Rockrider ST30 - Blue ...       NaN   9999.0\n",
       "3          Adult Leisure Cycle Rockrider ST10 - Black       NaN   5999.0\n",
       "4    Adult Leisure MTB Cycle Rockrider ST20 HF - Grey       4.0   7499.0\n",
       "5   Adult Leisure MTB Cycle Rockrider ST20 LF - Te...       4.4   7499.0\n",
       "6            Adult Sport MTB Cycle IN ST 530 - Chrome       4.6  34999.0\n",
       "7           Adult Sport MTB Cycle ST120 - Black/ Blue       4.9  24999.0\n",
       "8        Adult Sport MTB Cycle Rockrider ST50 - Black       4.1  12999.0\n",
       "9        Adult Sport MTB Cycle Rockrider ST540 - Blue       4.0  39999.0\n",
       "10     Adult Sport MTB Cycle Rockrider ST520 - Yellow       4.4  27999.0\n",
       "11     Adult Sport MTB Cycle - Rockrider ST520 - Grey       4.1  27999.0"
      ]
     },
     "execution_count": 74,
     "metadata": {},
     "output_type": "execute_result"
    }
   ],
   "source": [
    "bicycledata_de"
   ]
  },
  {
   "cell_type": "code",
   "execution_count": 75,
   "id": "d565309d",
   "metadata": {},
   "outputs": [
    {
     "data": {
      "text/plain": [
       "<AxesSubplot:xlabel='productname2'>"
      ]
     },
     "execution_count": 75,
     "metadata": {},
     "output_type": "execute_result"
    },
    {
     "data": {
      "image/png": "[encoded data removed]",
      "text/plain": [
       "<Figure size 432x288 with 1 Axes>"
      ]
     },
     "metadata": {
      "needs_background": "light"
     },
     "output_type": "display_data"
    }
   ],
   "source": [
    "bicycledata_de.plot(kind='bar',x='productname2',y='ratings2')"
   ]
  },
  {
   "cell_type": "code",
   "execution_count": 76,
   "id": "b45136b2",
   "metadata": {},
   "outputs": [
    {
     "data": {
      "text/plain": [
       "<AxesSubplot:xlabel='productname2'>"
      ]
     },
     "execution_count": 76,
     "metadata": {},
     "output_type": "execute_result"
    },
    {
     "data": {
      "image/png": "[encoded data removed]",
      "text/plain": [
       "<Figure size 432x288 with 1 Axes>"
      ]
     },
     "metadata": {
      "needs_background": "light"
     },
     "output_type": "display_data"
    }
   ],
   "source": [
    "bicycledata_de.plot(kind='bar',x='productname2',y='price2')"
   ]
  },
  {
   "cell_type": "code",
   "execution_count": 77,
   "id": "044e6369",
   "metadata": {},
   "outputs": [
    {
     "data": {
      "text/plain": [
       "<AxesSubplot:xlabel='productname2', ylabel='price2'>"
      ]
     },
     "execution_count": 77,
     "metadata": {},
     "output_type": "execute_result"
    },
    {
     "data": {
      "image/png": "[encoded data removed]",
      "text/plain": [
       "<Figure size 432x288 with 1 Axes>"
      ]
     },
     "metadata": {
      "needs_background": "light"
     },
     "output_type": "display_data"
    }
   ],
   "source": [
    "bicycledata_de.plot(kind='scatter',x='productname2',y='price2')"
   ]
  },
  {
   "cell_type": "code",
   "execution_count": 78,
   "id": "dfa56e11",
   "metadata": {},
   "outputs": [
    {
     "data": {
      "text/plain": [
       "<AxesSubplot:xlabel='productname2', ylabel='ratings2'>"
      ]
     },
     "execution_count": 78,
     "metadata": {},
     "output_type": "execute_result"
    },
    {
     "data": {
      "image/png": "[encoded data removed]",
      "text/plain": [
       "<Figure size 432x288 with 1 Axes>"
      ]
     },
     "metadata": {
      "needs_background": "light"
     },
     "output_type": "display_data"
    }
   ],
   "source": [
    "bicycledata_de.plot(kind='scatter',x='productname2',y='ratings2')"
   ]
  },
  {
   "cell_type": "code",
   "execution_count": 79,
   "id": "52f34470",
   "metadata": {},
   "outputs": [
    {
     "data": {
      "text/plain": [
       "array([[<AxesSubplot:title={'center':'4.0'}>,\n",
       "        <AxesSubplot:title={'center':'4.099999904632568'}>],\n",
       "       [<AxesSubplot:title={'center':'4.400000095367432'}>,\n",
       "        <AxesSubplot:title={'center':'4.599999904632568'}>],\n",
       "       [<AxesSubplot:title={'center':'4.900000095367432'}>,\n",
       "        <AxesSubplot:>]], dtype=object)"
      ]
     },
     "execution_count": 79,
     "metadata": {},
     "output_type": "execute_result"
    },
    {
     "data": {
      "image/png": "[encoded data removed]",
      "text/plain": [
       "<Figure size 432x288 with 6 Axes>"
      ]
     },
     "metadata": {
      "needs_background": "light"
     },
     "output_type": "display_data"
    }
   ],
   "source": [
    "bicycledata_de.hist('price2','ratings2')"
   ]
  },
  {
   "cell_type": "code",
   "execution_count": 80,
   "id": "a519576e",
   "metadata": {},
   "outputs": [
    {
     "data": {
      "text/html": [
       "<div>\n",
       "<style scoped>\n",
       "    .dataframe tbody tr th:only-of-type {\n",
       "        vertical-align: middle;\n",
       "    }\n",
       "\n",
       "    .dataframe tbody tr th {\n",
       "        vertical-align: top;\n",
       "    }\n",
       "\n",
       "    .dataframe thead th {\n",
       "        text-align: right;\n",
       "    }\n",
       "</style>\n",
       "<table border=\"1\" class=\"dataframe\">\n",
       "  <thead>\n",
       "    <tr style=\"text-align: right;\">\n",
       "      <th></th>\n",
       "      <th>productname1</th>\n",
       "      <th>ratings1</th>\n",
       "      <th>price1</th>\n",
       "      <th>offers1</th>\n",
       "      <th>productname2</th>\n",
       "      <th>ratings2</th>\n",
       "      <th>price2</th>\n",
       "    </tr>\n",
       "  </thead>\n",
       "  <tbody>\n",
       "    <tr>\n",
       "      <th>0</th>\n",
       "      <td>Lifelong Chaze by Milind Soman CZBC2703 27.5 T...</td>\n",
       "      <td>4.1</td>\n",
       "      <td>8899.0</td>\n",
       "      <td>38% off</td>\n",
       "      <td>Adult Hybrid Cycle Riverside 120 - Grey Yellow</td>\n",
       "      <td>NaN</td>\n",
       "      <td>11999.0</td>\n",
       "    </tr>\n",
       "    <tr>\n",
       "      <th>1</th>\n",
       "      <td>WALTX Trail 26 T Mountain Cycle</td>\n",
       "      <td>4.2</td>\n",
       "      <td>12999.0</td>\n",
       "      <td>23% off</td>\n",
       "      <td>Adult Leisure Cycle My Bike - White</td>\n",
       "      <td>NaN</td>\n",
       "      <td>5999.0</td>\n",
       "    </tr>\n",
       "    <tr>\n",
       "      <th>2</th>\n",
       "      <td>Lifelong Chaze by Milind Soman CZBC2702 27.5 T...</td>\n",
       "      <td>4.3</td>\n",
       "      <td>8899.0</td>\n",
       "      <td>38% off</td>\n",
       "      <td>Adult Leisure MTB Cycle Rockrider ST30 - Blue ...</td>\n",
       "      <td>NaN</td>\n",
       "      <td>9999.0</td>\n",
       "    </tr>\n",
       "    <tr>\n",
       "      <th>3</th>\n",
       "      <td>Hi-Fast Bicycle For Kids with Training Wheels ...</td>\n",
       "      <td>3.7</td>\n",
       "      <td>3299.0</td>\n",
       "      <td>45% off</td>\n",
       "      <td>Adult Leisure Cycle Rockrider ST10 - Black</td>\n",
       "      <td>NaN</td>\n",
       "      <td>5999.0</td>\n",
       "    </tr>\n",
       "    <tr>\n",
       "      <th>4</th>\n",
       "      <td>WALTX Dune 4 - Front Suspension 26 T Fat Tyre ...</td>\n",
       "      <td>4.0</td>\n",
       "      <td>17999.0</td>\n",
       "      <td>36% off</td>\n",
       "      <td>Adult Leisure MTB Cycle Rockrider ST20 HF - Grey</td>\n",
       "      <td>4.0</td>\n",
       "      <td>7499.0</td>\n",
       "    </tr>\n",
       "    <tr>\n",
       "      <th>5</th>\n",
       "      <td>MODERN Arrow 26T City Bike/Cycle In Built Carr...</td>\n",
       "      <td>4.1</td>\n",
       "      <td>5399.0</td>\n",
       "      <td>46% off</td>\n",
       "      <td>Adult Leisure MTB Cycle Rockrider ST20 LF - Te...</td>\n",
       "      <td>4.4</td>\n",
       "      <td>7499.0</td>\n",
       "    </tr>\n",
       "    <tr>\n",
       "      <th>6</th>\n",
       "      <td>MODERN Arrow 26T City Bike/Cycle In Built Carr...</td>\n",
       "      <td>3.9</td>\n",
       "      <td>5399.0</td>\n",
       "      <td>46% off</td>\n",
       "      <td>Adult Sport MTB Cycle IN ST 530 - Chrome</td>\n",
       "      <td>4.6</td>\n",
       "      <td>34999.0</td>\n",
       "    </tr>\n",
       "    <tr>\n",
       "      <th>7</th>\n",
       "      <td>WALTX Dune 1 26 T Fat Tyre Cycle</td>\n",
       "      <td>4.3</td>\n",
       "      <td>16999.0</td>\n",
       "      <td>26% off</td>\n",
       "      <td>Adult Sport MTB Cycle ST120 - Black/ Blue</td>\n",
       "      <td>4.9</td>\n",
       "      <td>24999.0</td>\n",
       "    </tr>\n",
       "    <tr>\n",
       "      <th>8</th>\n",
       "      <td>Lifelong Falcon 27.5 T with Disc Brake and Sus...</td>\n",
       "      <td>3.7</td>\n",
       "      <td>8999.0</td>\n",
       "      <td>30% off</td>\n",
       "      <td>Adult Sport MTB Cycle Rockrider ST50 - Black</td>\n",
       "      <td>4.1</td>\n",
       "      <td>12999.0</td>\n",
       "    </tr>\n",
       "    <tr>\n",
       "      <th>9</th>\n",
       "      <td>Lifelong Chaze by Milind Soman CZBC2601 26 T R...</td>\n",
       "      <td>3.4</td>\n",
       "      <td>5699.0</td>\n",
       "      <td>40% off</td>\n",
       "      <td>Adult Sport MTB Cycle Rockrider ST540 - Blue</td>\n",
       "      <td>4.0</td>\n",
       "      <td>39999.0</td>\n",
       "    </tr>\n",
       "    <tr>\n",
       "      <th>10</th>\n",
       "      <td>LEADER TORFIN 26T MTB Bicycle without Gear Sin...</td>\n",
       "      <td>4.4</td>\n",
       "      <td>7425.0</td>\n",
       "      <td>40% off</td>\n",
       "      <td>Adult Sport MTB Cycle Rockrider ST520 - Yellow</td>\n",
       "      <td>4.4</td>\n",
       "      <td>27999.0</td>\n",
       "    </tr>\n",
       "    <tr>\n",
       "      <th>11</th>\n",
       "      <td>MODERN NAPPIER 26T Bike/Bicycle In Built Carri...</td>\n",
       "      <td>4.0</td>\n",
       "      <td>6299.0</td>\n",
       "      <td>25% off</td>\n",
       "      <td>Adult Sport MTB Cycle - Rockrider ST520 - Grey</td>\n",
       "      <td>4.1</td>\n",
       "      <td>27999.0</td>\n",
       "    </tr>\n",
       "  </tbody>\n",
       "</table>\n",
       "</div>"
      ],
      "text/plain": [
       "                                         productname1  ratings1   price1  \\\n",
       "0   Lifelong Chaze by Milind Soman CZBC2703 27.5 T...       4.1   8899.0   \n",
       "1                     WALTX Trail 26 T Mountain Cycle       4.2  12999.0   \n",
       "2   Lifelong Chaze by Milind Soman CZBC2702 27.5 T...       4.3   8899.0   \n",
       "3   Hi-Fast Bicycle For Kids with Training Wheels ...       3.7   3299.0   \n",
       "4   WALTX Dune 4 - Front Suspension 26 T Fat Tyre ...       4.0  17999.0   \n",
       "5   MODERN Arrow 26T City Bike/Cycle In Built Carr...       4.1   5399.0   \n",
       "6   MODERN Arrow 26T City Bike/Cycle In Built Carr...       3.9   5399.0   \n",
       "7                    WALTX Dune 1 26 T Fat Tyre Cycle       4.3  16999.0   \n",
       "8   Lifelong Falcon 27.5 T with Disc Brake and Sus...       3.7   8999.0   \n",
       "9   Lifelong Chaze by Milind Soman CZBC2601 26 T R...       3.4   5699.0   \n",
       "10  LEADER TORFIN 26T MTB Bicycle without Gear Sin...       4.4   7425.0   \n",
       "11  MODERN NAPPIER 26T Bike/Bicycle In Built Carri...       4.0   6299.0   \n",
       "\n",
       "    offers1                                       productname2  ratings2  \\\n",
       "0   38% off     Adult Hybrid Cycle Riverside 120 - Grey Yellow       NaN   \n",
       "1   23% off                Adult Leisure Cycle My Bike - White       NaN   \n",
       "2   38% off  Adult Leisure MTB Cycle Rockrider ST30 - Blue ...       NaN   \n",
       "3   45% off         Adult Leisure Cycle Rockrider ST10 - Black       NaN   \n",
       "4   36% off   Adult Leisure MTB Cycle Rockrider ST20 HF - Grey       4.0   \n",
       "5   46% off  Adult Leisure MTB Cycle Rockrider ST20 LF - Te...       4.4   \n",
       "6   46% off           Adult Sport MTB Cycle IN ST 530 - Chrome       4.6   \n",
       "7   26% off          Adult Sport MTB Cycle ST120 - Black/ Blue       4.9   \n",
       "8   30% off       Adult Sport MTB Cycle Rockrider ST50 - Black       4.1   \n",
       "9   40% off       Adult Sport MTB Cycle Rockrider ST540 - Blue       4.0   \n",
       "10  40% off     Adult Sport MTB Cycle Rockrider ST520 - Yellow       4.4   \n",
       "11  25% off     Adult Sport MTB Cycle - Rockrider ST520 - Grey       4.1   \n",
       "\n",
       "     price2  \n",
       "0   11999.0  \n",
       "1    5999.0  \n",
       "2    9999.0  \n",
       "3    5999.0  \n",
       "4    7499.0  \n",
       "5    7499.0  \n",
       "6   34999.0  \n",
       "7   24999.0  \n",
       "8   12999.0  \n",
       "9   39999.0  \n",
       "10  27999.0  \n",
       "11  27999.0  "
      ]
     },
     "metadata": {},
     "output_type": "display_data"
    }
   ],
   "source": [
    "result=pd.concat([bicycledata,bicycledata_de],axis=1,join='inner')                          #Comparing two links\n",
    "display(result)"
   ]
  },
  {
   "cell_type": "code",
   "execution_count": 81,
   "id": "3f62c5ca",
   "metadata": {},
   "outputs": [],
   "source": [
    "result.to_csv(\"source3.csv\")"
   ]
  },
  {
   "cell_type": "code",
   "execution_count": 82,
   "id": "ea405804",
   "metadata": {},
   "outputs": [
    {
     "data": {
      "text/html": [
       "<div>\n",
       "<style scoped>\n",
       "    .dataframe tbody tr th:only-of-type {\n",
       "        vertical-align: middle;\n",
       "    }\n",
       "\n",
       "    .dataframe tbody tr th {\n",
       "        vertical-align: top;\n",
       "    }\n",
       "\n",
       "    .dataframe thead th {\n",
       "        text-align: right;\n",
       "    }\n",
       "</style>\n",
       "<table border=\"1\" class=\"dataframe\">\n",
       "  <thead>\n",
       "    <tr style=\"text-align: right;\">\n",
       "      <th></th>\n",
       "      <th>Unnamed: 0</th>\n",
       "      <th>productname1</th>\n",
       "      <th>ratings1</th>\n",
       "      <th>price1</th>\n",
       "      <th>offers1</th>\n",
       "      <th>productname2</th>\n",
       "      <th>ratings2</th>\n",
       "      <th>price2</th>\n",
       "    </tr>\n",
       "  </thead>\n",
       "  <tbody>\n",
       "    <tr>\n",
       "      <th>0</th>\n",
       "      <td>0</td>\n",
       "      <td>Lifelong Chaze by Milind Soman CZBC2703 27.5 T...</td>\n",
       "      <td>4.1</td>\n",
       "      <td>8899.0</td>\n",
       "      <td>38% off</td>\n",
       "      <td>Adult Hybrid Cycle Riverside 120 - Grey Yellow</td>\n",
       "      <td>NaN</td>\n",
       "      <td>11999.0</td>\n",
       "    </tr>\n",
       "    <tr>\n",
       "      <th>1</th>\n",
       "      <td>1</td>\n",
       "      <td>WALTX Trail 26 T Mountain Cycle</td>\n",
       "      <td>4.2</td>\n",
       "      <td>12999.0</td>\n",
       "      <td>23% off</td>\n",
       "      <td>Adult Leisure Cycle My Bike - White</td>\n",
       "      <td>NaN</td>\n",
       "      <td>5999.0</td>\n",
       "    </tr>\n",
       "    <tr>\n",
       "      <th>2</th>\n",
       "      <td>2</td>\n",
       "      <td>Lifelong Chaze by Milind Soman CZBC2702 27.5 T...</td>\n",
       "      <td>4.3</td>\n",
       "      <td>8899.0</td>\n",
       "      <td>38% off</td>\n",
       "      <td>Adult Leisure MTB Cycle Rockrider ST30 - Blue ...</td>\n",
       "      <td>NaN</td>\n",
       "      <td>9999.0</td>\n",
       "    </tr>\n",
       "    <tr>\n",
       "      <th>3</th>\n",
       "      <td>3</td>\n",
       "      <td>Hi-Fast Bicycle For Kids with Training Wheels ...</td>\n",
       "      <td>3.7</td>\n",
       "      <td>3299.0</td>\n",
       "      <td>45% off</td>\n",
       "      <td>Adult Leisure Cycle Rockrider ST10 - Black</td>\n",
       "      <td>NaN</td>\n",
       "      <td>5999.0</td>\n",
       "    </tr>\n",
       "    <tr>\n",
       "      <th>4</th>\n",
       "      <td>4</td>\n",
       "      <td>WALTX Dune 4 - Front Suspension 26 T Fat Tyre ...</td>\n",
       "      <td>4.0</td>\n",
       "      <td>17999.0</td>\n",
       "      <td>36% off</td>\n",
       "      <td>Adult Leisure MTB Cycle Rockrider ST20 HF - Grey</td>\n",
       "      <td>4.0</td>\n",
       "      <td>7499.0</td>\n",
       "    </tr>\n",
       "    <tr>\n",
       "      <th>5</th>\n",
       "      <td>5</td>\n",
       "      <td>MODERN Arrow 26T City Bike/Cycle In Built Carr...</td>\n",
       "      <td>4.1</td>\n",
       "      <td>5399.0</td>\n",
       "      <td>46% off</td>\n",
       "      <td>Adult Leisure MTB Cycle Rockrider ST20 LF - Te...</td>\n",
       "      <td>4.4</td>\n",
       "      <td>7499.0</td>\n",
       "    </tr>\n",
       "    <tr>\n",
       "      <th>6</th>\n",
       "      <td>6</td>\n",
       "      <td>MODERN Arrow 26T City Bike/Cycle In Built Carr...</td>\n",
       "      <td>3.9</td>\n",
       "      <td>5399.0</td>\n",
       "      <td>46% off</td>\n",
       "      <td>Adult Sport MTB Cycle IN ST 530 - Chrome</td>\n",
       "      <td>4.6</td>\n",
       "      <td>34999.0</td>\n",
       "    </tr>\n",
       "    <tr>\n",
       "      <th>7</th>\n",
       "      <td>7</td>\n",
       "      <td>WALTX Dune 1 26 T Fat Tyre Cycle</td>\n",
       "      <td>4.3</td>\n",
       "      <td>16999.0</td>\n",
       "      <td>26% off</td>\n",
       "      <td>Adult Sport MTB Cycle ST120 - Black/ Blue</td>\n",
       "      <td>4.9</td>\n",
       "      <td>24999.0</td>\n",
       "    </tr>\n",
       "    <tr>\n",
       "      <th>8</th>\n",
       "      <td>8</td>\n",
       "      <td>Lifelong Falcon 27.5 T with Disc Brake and Sus...</td>\n",
       "      <td>3.7</td>\n",
       "      <td>8999.0</td>\n",
       "      <td>30% off</td>\n",
       "      <td>Adult Sport MTB Cycle Rockrider ST50 - Black</td>\n",
       "      <td>4.1</td>\n",
       "      <td>12999.0</td>\n",
       "    </tr>\n",
       "    <tr>\n",
       "      <th>9</th>\n",
       "      <td>9</td>\n",
       "      <td>Lifelong Chaze by Milind Soman CZBC2601 26 T R...</td>\n",
       "      <td>3.4</td>\n",
       "      <td>5699.0</td>\n",
       "      <td>40% off</td>\n",
       "      <td>Adult Sport MTB Cycle Rockrider ST540 - Blue</td>\n",
       "      <td>4.0</td>\n",
       "      <td>39999.0</td>\n",
       "    </tr>\n",
       "    <tr>\n",
       "      <th>10</th>\n",
       "      <td>10</td>\n",
       "      <td>LEADER TORFIN 26T MTB Bicycle without Gear Sin...</td>\n",
       "      <td>4.4</td>\n",
       "      <td>7425.0</td>\n",
       "      <td>40% off</td>\n",
       "      <td>Adult Sport MTB Cycle Rockrider ST520 - Yellow</td>\n",
       "      <td>4.4</td>\n",
       "      <td>27999.0</td>\n",
       "    </tr>\n",
       "    <tr>\n",
       "      <th>11</th>\n",
       "      <td>11</td>\n",
       "      <td>MODERN NAPPIER 26T Bike/Bicycle In Built Carri...</td>\n",
       "      <td>4.0</td>\n",
       "      <td>6299.0</td>\n",
       "      <td>25% off</td>\n",
       "      <td>Adult Sport MTB Cycle - Rockrider ST520 - Grey</td>\n",
       "      <td>4.1</td>\n",
       "      <td>27999.0</td>\n",
       "    </tr>\n",
       "  </tbody>\n",
       "</table>\n",
       "</div>"
      ],
      "text/plain": [
       "    Unnamed: 0                                       productname1  ratings1  \\\n",
       "0            0  Lifelong Chaze by Milind Soman CZBC2703 27.5 T...       4.1   \n",
       "1            1                    WALTX Trail 26 T Mountain Cycle       4.2   \n",
       "2            2  Lifelong Chaze by Milind Soman CZBC2702 27.5 T...       4.3   \n",
       "3            3  Hi-Fast Bicycle For Kids with Training Wheels ...       3.7   \n",
       "4            4  WALTX Dune 4 - Front Suspension 26 T Fat Tyre ...       4.0   \n",
       "5            5  MODERN Arrow 26T City Bike/Cycle In Built Carr...       4.1   \n",
       "6            6  MODERN Arrow 26T City Bike/Cycle In Built Carr...       3.9   \n",
       "7            7                   WALTX Dune 1 26 T Fat Tyre Cycle       4.3   \n",
       "8            8  Lifelong Falcon 27.5 T with Disc Brake and Sus...       3.7   \n",
       "9            9  Lifelong Chaze by Milind Soman CZBC2601 26 T R...       3.4   \n",
       "10          10  LEADER TORFIN 26T MTB Bicycle without Gear Sin...       4.4   \n",
       "11          11  MODERN NAPPIER 26T Bike/Bicycle In Built Carri...       4.0   \n",
       "\n",
       "     price1  offers1                                       productname2  \\\n",
       "0    8899.0  38% off     Adult Hybrid Cycle Riverside 120 - Grey Yellow   \n",
       "1   12999.0  23% off                Adult Leisure Cycle My Bike - White   \n",
       "2    8899.0  38% off  Adult Leisure MTB Cycle Rockrider ST30 - Blue ...   \n",
       "3    3299.0  45% off         Adult Leisure Cycle Rockrider ST10 - Black   \n",
       "4   17999.0  36% off   Adult Leisure MTB Cycle Rockrider ST20 HF - Grey   \n",
       "5    5399.0  46% off  Adult Leisure MTB Cycle Rockrider ST20 LF - Te...   \n",
       "6    5399.0  46% off           Adult Sport MTB Cycle IN ST 530 - Chrome   \n",
       "7   16999.0  26% off          Adult Sport MTB Cycle ST120 - Black/ Blue   \n",
       "8    8999.0  30% off       Adult Sport MTB Cycle Rockrider ST50 - Black   \n",
       "9    5699.0  40% off       Adult Sport MTB Cycle Rockrider ST540 - Blue   \n",
       "10   7425.0  40% off     Adult Sport MTB Cycle Rockrider ST520 - Yellow   \n",
       "11   6299.0  25% off     Adult Sport MTB Cycle - Rockrider ST520 - Grey   \n",
       "\n",
       "    ratings2   price2  \n",
       "0        NaN  11999.0  \n",
       "1        NaN   5999.0  \n",
       "2        NaN   9999.0  \n",
       "3        NaN   5999.0  \n",
       "4        4.0   7499.0  \n",
       "5        4.4   7499.0  \n",
       "6        4.6  34999.0  \n",
       "7        4.9  24999.0  \n",
       "8        4.1  12999.0  \n",
       "9        4.0  39999.0  \n",
       "10       4.4  27999.0  \n",
       "11       4.1  27999.0  "
      ]
     },
     "execution_count": 82,
     "metadata": {},
     "output_type": "execute_result"
    }
   ],
   "source": [
    "data=pd.read_csv(\"source3.csv\")\n",
    "data"
   ]
  },
  {
   "cell_type": "code",
   "execution_count": 83,
   "id": "fc5d135a",
   "metadata": {},
   "outputs": [
    {
     "data": {
      "text/plain": [
       "<AxesSubplot:xlabel='ratings1'>"
      ]
     },
     "execution_count": 83,
     "metadata": {},
     "output_type": "execute_result"
    },
    {
     "data": {
      "image/png": "[encoded data removed]",
      "text/plain": [
       "<Figure size 432x288 with 1 Axes>"
      ]
     },
     "metadata": {
      "needs_background": "light"
     },
     "output_type": "display_data"
    }
   ],
   "source": [
    "result.plot(kind='bar',x='ratings1',y='ratings2')"
   ]
  },
  {
   "cell_type": "code",
   "execution_count": 84,
   "id": "b42b1fd7",
   "metadata": {},
   "outputs": [
    {
     "data": {
      "text/plain": [
       "<AxesSubplot:xlabel='price1'>"
      ]
     },
     "execution_count": 84,
     "metadata": {},
     "output_type": "execute_result"
    },
    {
     "data": {
      "image/png": "[encoded data removed]",
      "text/plain": [
       "<Figure size 432x288 with 1 Axes>"
      ]
     },
     "metadata": {
      "needs_background": "light"
     },
     "output_type": "display_data"
    }
   ],
   "source": [
    "result.plot(kind='bar',x='price1',y='price2')"
   ]
  },
  {
   "cell_type": "code",
   "execution_count": 85,
   "id": "08e507de",
   "metadata": {},
   "outputs": [
    {
     "data": {
      "text/plain": [
       "<AxesSubplot:xlabel='ratings1', ylabel='ratings2'>"
      ]
     },
     "execution_count": 85,
     "metadata": {},
     "output_type": "execute_result"
    },
    {
     "data": {
      "image/png": "[encoded data removed]",
      "text/plain": [
       "<Figure size 432x288 with 1 Axes>"
      ]
     },
     "metadata": {
      "needs_background": "light"
     },
     "output_type": "display_data"
    }
   ],
   "source": [
    "result.plot(kind='scatter',x='ratings1',y='ratings2')"
   ]
  },
  {
   "cell_type": "code",
   "execution_count": 86,
   "id": "2ab7bb52",
   "metadata": {},
   "outputs": [
    {
     "data": {
      "text/plain": [
       "<AxesSubplot:xlabel='price1', ylabel='price2'>"
      ]
     },
     "execution_count": 86,
     "metadata": {},
     "output_type": "execute_result"
    },
    {
     "data": {
      "image/png": "[encoded data removed]",
      "text/plain": [
       "<Figure size 432x288 with 1 Axes>"
      ]
     },
     "metadata": {
      "needs_background": "light"
     },
     "output_type": "display_data"
    }
   ],
   "source": [
    "result.plot(kind='scatter',x='price1',y='price2')"
   ]
  },
  {
   "cell_type": "code",
   "execution_count": 87,
   "id": "d2250443",
   "metadata": {},
   "outputs": [
    {
     "data": {
      "text/plain": [
       "array([[<AxesSubplot:title={'center':'5999.0'}>,\n",
       "        <AxesSubplot:title={'center':'7499.0'}>,\n",
       "        <AxesSubplot:title={'center':'9999.0'}>],\n",
       "       [<AxesSubplot:title={'center':'11999.0'}>,\n",
       "        <AxesSubplot:title={'center':'12999.0'}>,\n",
       "        <AxesSubplot:title={'center':'24999.0'}>],\n",
       "       [<AxesSubplot:title={'center':'27999.0'}>,\n",
       "        <AxesSubplot:title={'center':'34999.0'}>,\n",
       "        <AxesSubplot:title={'center':'39999.0'}>]], dtype=object)"
      ]
     },
     "execution_count": 87,
     "metadata": {},
     "output_type": "execute_result"
    },
    {
     "data": {
      "image/png": "[encoded data removed]",
      "text/plain": [
       "<Figure size 432x288 with 9 Axes>"
      ]
     },
     "metadata": {
      "needs_background": "light"
     },
     "output_type": "display_data"
    }
   ],
   "source": [
    "result.hist('price1','price2')"
   ]
  },
  {
   "cell_type": "code",
   "execution_count": 88,
   "id": "5d4ab759",
   "metadata": {},
   "outputs": [
    {
     "data": {
      "text/plain": [
       "array([[<AxesSubplot:title={'center':'4.0'}>,\n",
       "        <AxesSubplot:title={'center':'4.099999904632568'}>],\n",
       "       [<AxesSubplot:title={'center':'4.400000095367432'}>,\n",
       "        <AxesSubplot:title={'center':'4.599999904632568'}>],\n",
       "       [<AxesSubplot:title={'center':'4.900000095367432'}>,\n",
       "        <AxesSubplot:>]], dtype=object)"
      ]
     },
     "execution_count": 88,
     "metadata": {},
     "output_type": "execute_result"
    },
    {
     "data": {
      "image/png": "[encoded data removed]",
      "text/plain": [
       "<Figure size 432x288 with 6 Axes>"
      ]
     },
     "metadata": {
      "needs_background": "light"
     },
     "output_type": "display_data"
    }
   ],
   "source": [
    "result.hist('ratings1','ratings2')"
   ]
  },
  {
   "cell_type": "code",
   "execution_count": null,
   "id": "9ff3c96d",
   "metadata": {},
   "outputs": [],
   "source": []
  }
 ],
 "metadata": {
  "kernelspec": {
   "display_name": "Python 3",
   "language": "python",
   "name": "python3"
  },
  "language_info": {
   "codemirror_mode": {
    "name": "ipython",
    "version": 3
   },
   "file_extension": ".py",
   "mimetype": "text/x-python",
   "name": "python",
   "nbconvert_exporter": "python",
   "pygments_lexer": "ipython3",
   "version": "3.8.8"
  }
 },
 "nbformat": 4,
 "nbformat_minor": 5
}
